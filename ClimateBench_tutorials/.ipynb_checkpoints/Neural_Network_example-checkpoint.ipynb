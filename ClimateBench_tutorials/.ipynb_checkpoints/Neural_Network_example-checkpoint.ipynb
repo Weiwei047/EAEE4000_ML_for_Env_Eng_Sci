{
 "cells": [
  {
   "cell_type": "code",
   "execution_count": 1,
   "id": "e4ace544-3b14-43d0-8b3d-f87169489035",
   "metadata": {},
   "outputs": [
    {
     "name": "stdout",
     "output_type": "stream",
     "text": [
      "Don't know how to reset  #, please run `%reset?` for details\n",
      "Don't know how to reset  this, please run `%reset?` for details\n",
      "Don't know how to reset  is, please run `%reset?` for details\n",
      "Don't know how to reset  to, please run `%reset?` for details\n",
      "Don't know how to reset  reset, please run `%reset?` for details\n",
      "Don't know how to reset  the, please run `%reset?` for details\n",
      "Don't know how to reset  kernal:, please run `%reset?` for details\n",
      "Don't know how to reset  clear, please run `%reset?` for details\n",
      "Don't know how to reset  all, please run `%reset?` for details\n",
      "Don't know how to reset  in-memory, please run `%reset?` for details\n",
      "Don't know how to reset  objects, please run `%reset?` for details\n"
     ]
    }
   ],
   "source": [
    "%reset -f # this is to reset the kernel: clear all in-memory objects"
   ]
  },
  {
   "cell_type": "code",
   "execution_count": 2,
   "id": "8c16e964-54e5-4a97-ac3e-5603912caf41",
   "metadata": {},
   "outputs": [],
   "source": [
    "import os\n",
    "import numpy as np\n",
    "import pandas as pd\n",
    "import matplotlib.pyplot as plt\n",
    "import xarray as xr\n",
    "from glob import glob\n",
    "\n",
    "import tensorflow as tf\n",
    "from tensorflow import keras\n",
    "from tensorflow.keras.models import Model, load_model\n",
    "from tensorflow.keras.layers import *\n",
    "from tensorflow.keras import Sequential\n",
    "from utils import * \n",
    "\n",
    "%matplotlib inline\n",
    "%config InlineBackend.figure_format = 'retina'\n",
    "%load_ext autoreload\n",
    "%autoreload 2\n",
    "\n",
    "plt.rcParams['savefig.dpi'] = 400\n",
    "plt.rcParams['font.size'] = 13\n",
    "plt.rcParams[\"legend.frameon\"] = False"
   ]
  },
  {
   "cell_type": "markdown",
   "id": "1d513924-fc15-4898-9716-34dd31328715",
   "metadata": {},
   "source": [
    "These directories will be used to store the ClimateBench dataset"
   ]
  },
  {
   "cell_type": "code",
   "execution_count": 3,
   "id": "3a834084-e3b0-40d8-b256-7fb6ca1c5446",
   "metadata": {},
   "outputs": [],
   "source": [
    "test_path  = './Data/test/'\n",
    "train_path = './Data/train_val/'\n",
    "\n",
    "make_dir(test_path)\n",
    "make_dir(train_path)"
   ]
  },
  {
   "cell_type": "markdown",
   "id": "ac5b0ca2-de9d-4746-a816-3c5d29c3b860",
   "metadata": {
    "jp-MarkdownHeadingCollapsed": true,
    "tags": []
   },
   "source": [
    "## Download & unzip the ClimateBench Dataset"
   ]
  },
  {
   "cell_type": "markdown",
   "id": "17457013-5537-4fb1-b56f-c25820e0c47a",
   "metadata": {},
   "source": [
    "Now let's download the ClimateBench dataset using `wget` \n",
    "\n",
    "\n",
    "First download for the training & validation sets (this may takes about 3min)"
   ]
  },
  {
   "cell_type": "code",
   "execution_count": 4,
   "id": "83326b45-ed0c-41ee-ac45-7fb647f2ebcf",
   "metadata": {},
   "outputs": [
    {
     "name": "stdout",
     "output_type": "stream",
     "text": [
      "--2022-09-20 16:55:08--  https://zenodo.org/record/7064308/files/train_val.tar.gz\n",
      "Resolving zenodo.org (zenodo.org)... 188.184.117.155\n",
      "Connecting to zenodo.org (zenodo.org)|188.184.117.155|:443... connected.\n",
      "HTTP request sent, awaiting response... 200 OK\n",
      "Length: 839129430 (800M) [application/octet-stream]\n",
      "Saving to: ‘train_val.tar.gz’\n",
      "\n",
      "train_val.tar.gz     95%[==================> ] 762.81M  --.-KB/s    in 57m 6s  \n",
      "\n",
      "2022-09-20 17:52:15 (228 KB/s) - Read error at byte 799865854/839129430 (Operation timed out). Retrying.\n",
      "\n",
      "--2022-09-20 17:52:16--  (try: 2)  https://zenodo.org/record/7064308/files/train_val.tar.gz\n",
      "Connecting to zenodo.org (zenodo.org)|188.184.117.155|:443... connected.\n",
      "HTTP request sent, awaiting response... 206 Partial Content\n",
      "Length: 839129430 (800M), 39263576 (37M) remaining [application/octet-stream]\n",
      "Saving to: ‘train_val.tar.gz’\n",
      "\n",
      "train_val.tar.gz     97%[+++++++++++++++++++ ] 778.42M  --.-KB/s    in 16m 3s  \n",
      "\n",
      "2022-09-20 18:08:31 (16.6 KB/s) - Read error at byte 816232431/839129430 (Operation timed out). Retrying.\n",
      "\n",
      "--2022-09-20 18:08:33--  (try: 3)  https://zenodo.org/record/7064308/files/train_val.tar.gz\n",
      "Connecting to zenodo.org (zenodo.org)|188.184.117.155|:443... connected.\n",
      "HTTP request sent, awaiting response... 206 Partial Content\n",
      "Length: 839129430 (800M), 22896999 (22M) remaining [application/octet-stream]\n",
      "Saving to: ‘train_val.tar.gz’\n",
      "\n",
      "train_val.tar.gz    100%[+++++++++++++++++++>] 800.26M   318KB/s    in 33s     \n",
      "\n",
      "2022-09-20 18:09:04 (686 KB/s) - ‘train_val.tar.gz’ saved [839129430/839129430]\n",
      "\n"
     ]
    }
   ],
   "source": [
    "!wget https://zenodo.org/record/7064308/files/train_val.tar.gz"
   ]
  },
  {
   "cell_type": "markdown",
   "id": "17efceb2-d960-49af-8185-c4a07cc9e7e3",
   "metadata": {},
   "source": [
    "Then download for the test set"
   ]
  },
  {
   "cell_type": "code",
   "execution_count": 5,
   "id": "0dda95e0-bb73-4f57-a2c2-6516226cb5b7",
   "metadata": {},
   "outputs": [
    {
     "name": "stdout",
     "output_type": "stream",
     "text": [
      "--2022-09-20 18:09:08--  https://zenodo.org/record/7064308/files/test.tar.gz\n",
      "Resolving zenodo.org (zenodo.org)... 188.184.117.155\n",
      "Connecting to zenodo.org (zenodo.org)|188.184.117.155|:443... connected.\n",
      "HTTP request sent, awaiting response... 200 OK\n",
      "Length: 74442376 (71M) [application/octet-stream]\n",
      "Saving to: ‘test.tar.gz’\n",
      "\n",
      "test.tar.gz         100%[===================>]  70.99M  2.31MB/s    in 44s     \n",
      "\n",
      "2022-09-20 18:09:53 (1.62 MB/s) - ‘test.tar.gz’ saved [74442376/74442376]\n",
      "\n"
     ]
    }
   ],
   "source": [
    "!wget https://zenodo.org/record/7064308/files/test.tar.gz"
   ]
  },
  {
   "cell_type": "markdown",
   "id": "48cc4afe-e7f8-4251-8319-fb6feaeeab6f",
   "metadata": {},
   "source": [
    "Unzip the downloaded datasets, and put them into the previously defined directories"
   ]
  },
  {
   "cell_type": "code",
   "execution_count": 6,
   "id": "efa108e7-ff08-4fd5-8140-72c4343bf658",
   "metadata": {},
   "outputs": [],
   "source": [
    "!tar -C $test_path -xzf test.tar.gz "
   ]
  },
  {
   "cell_type": "code",
   "execution_count": 7,
   "id": "4f6887f4-0dc6-4aef-8b12-3aaae78a90fd",
   "metadata": {},
   "outputs": [],
   "source": [
    "!tar -C $train_path -xzf train_val.tar.gz"
   ]
  },
  {
   "cell_type": "markdown",
   "id": "53efe084-8100-4228-9446-2b6b993b17b0",
   "metadata": {
    "jp-MarkdownHeadingCollapsed": true,
    "tags": []
   },
   "source": [
    "## Some visualization of the ClimateBench data"
   ]
  },
  {
   "cell_type": "markdown",
   "id": "44d097b9-5c23-4112-b696-87908c7a0c05",
   "metadata": {},
   "source": [
    "Before we use ClimateBench data to train ML models, let's have a quick look about the data."
   ]
  },
  {
   "cell_type": "markdown",
   "id": "c87539df-d4da-4d92-a6c4-f70a36247ed0",
   "metadata": {
    "tags": []
   },
   "source": [
    "### historical simulations\n",
    "\n",
    "\n",
    "ClimateBench provides historical simulations - it can simulate how emissions of greenhouse gases (e.g., CO2, CH4) & surface air temperature (tas) vary over the historical time period starting from 1850.\n",
    "\n",
    "\n",
    "There are 3 historical scenarios used here:"
   ]
  },
  {
   "cell_type": "code",
   "execution_count": 8,
   "id": "4a3147da-5a05-4181-a274-23a5ad0dbe89",
   "metadata": {},
   "outputs": [
    {
     "data": {
      "text/plain": [
       "['./Data/train_val/inputs_hist-GHG.nc',\n",
       " './Data/train_val/inputs_hist-aer.nc',\n",
       " './Data/train_val/inputs_historical.nc']"
      ]
     },
     "execution_count": 8,
     "metadata": {},
     "output_type": "execute_result"
    }
   ],
   "source": [
    "inputs = glob(train_path + \"inputs_his*.nc\")\n",
    "inputs.sort()\n",
    "inputs"
   ]
  },
  {
   "cell_type": "code",
   "execution_count": 9,
   "id": "cfeea5bf-2f07-47aa-a67e-3e57664662b2",
   "metadata": {},
   "outputs": [
    {
     "ename": "ValueError",
     "evalue": "found the following matches with the input file in xarray's IO backends: ['netcdf4', 'h5netcdf']. But their dependencies may not be installed, see:\nhttps://docs.xarray.dev/en/stable/user-guide/io.html \nhttps://docs.xarray.dev/en/stable/getting-started-guide/installing.html",
     "output_type": "error",
     "traceback": [
      "\u001b[0;31m---------------------------------------------------------------------------\u001b[0m",
      "\u001b[0;31mValueError\u001b[0m                                Traceback (most recent call last)",
      "Input \u001b[0;32mIn [9]\u001b[0m, in \u001b[0;36m<cell line: 3>\u001b[0;34m()\u001b[0m\n\u001b[1;32m      3\u001b[0m \u001b[38;5;28;01mfor\u001b[39;00m \u001b[38;5;28minput\u001b[39m \u001b[38;5;129;01min\u001b[39;00m inputs:\n\u001b[1;32m      5\u001b[0m     label\u001b[38;5;241m=\u001b[39m\u001b[38;5;28minput\u001b[39m\u001b[38;5;241m.\u001b[39msplit(\u001b[38;5;124m'\u001b[39m\u001b[38;5;124m_\u001b[39m\u001b[38;5;124m'\u001b[39m)[\u001b[38;5;241m-\u001b[39m\u001b[38;5;241m1\u001b[39m][:\u001b[38;5;241m-\u001b[39m\u001b[38;5;241m3\u001b[39m]\n\u001b[0;32m----> 6\u001b[0m     X \u001b[38;5;241m=\u001b[39m \u001b[43mxr\u001b[49m\u001b[38;5;241;43m.\u001b[39;49m\u001b[43mopen_dataset\u001b[49m\u001b[43m(\u001b[49m\u001b[38;5;28;43minput\u001b[39;49m\u001b[43m)\u001b[49m\n\u001b[1;32m      7\u001b[0m     x \u001b[38;5;241m=\u001b[39m \u001b[38;5;28mrange\u001b[39m(\u001b[38;5;241m1850\u001b[39m, \u001b[38;5;241m2015\u001b[39m)\n\u001b[1;32m      9\u001b[0m     weights \u001b[38;5;241m=\u001b[39m np\u001b[38;5;241m.\u001b[39mcos(np\u001b[38;5;241m.\u001b[39mdeg2rad(X\u001b[38;5;241m.\u001b[39mlatitude))\n",
      "File \u001b[0;32m~/opt/anaconda3/envs/keras/lib/python3.10/site-packages/xarray/backends/api.py:515\u001b[0m, in \u001b[0;36mopen_dataset\u001b[0;34m(filename_or_obj, engine, chunks, cache, decode_cf, mask_and_scale, decode_times, decode_timedelta, use_cftime, concat_characters, decode_coords, drop_variables, inline_array, backend_kwargs, **kwargs)\u001b[0m\n\u001b[1;32m    512\u001b[0m     kwargs\u001b[38;5;241m.\u001b[39mupdate(backend_kwargs)\n\u001b[1;32m    514\u001b[0m \u001b[38;5;28;01mif\u001b[39;00m engine \u001b[38;5;129;01mis\u001b[39;00m \u001b[38;5;28;01mNone\u001b[39;00m:\n\u001b[0;32m--> 515\u001b[0m     engine \u001b[38;5;241m=\u001b[39m \u001b[43mplugins\u001b[49m\u001b[38;5;241;43m.\u001b[39;49m\u001b[43mguess_engine\u001b[49m\u001b[43m(\u001b[49m\u001b[43mfilename_or_obj\u001b[49m\u001b[43m)\u001b[49m\n\u001b[1;32m    517\u001b[0m backend \u001b[38;5;241m=\u001b[39m plugins\u001b[38;5;241m.\u001b[39mget_backend(engine)\n\u001b[1;32m    519\u001b[0m decoders \u001b[38;5;241m=\u001b[39m _resolve_decoders_kwargs(\n\u001b[1;32m    520\u001b[0m     decode_cf,\n\u001b[1;32m    521\u001b[0m     open_backend_dataset_parameters\u001b[38;5;241m=\u001b[39mbackend\u001b[38;5;241m.\u001b[39mopen_dataset_parameters,\n\u001b[0;32m   (...)\u001b[0m\n\u001b[1;32m    527\u001b[0m     decode_coords\u001b[38;5;241m=\u001b[39mdecode_coords,\n\u001b[1;32m    528\u001b[0m )\n",
      "File \u001b[0;32m~/opt/anaconda3/envs/keras/lib/python3.10/site-packages/xarray/backends/plugins.py:155\u001b[0m, in \u001b[0;36mguess_engine\u001b[0;34m(store_spec)\u001b[0m\n\u001b[1;32m    147\u001b[0m \u001b[38;5;28;01melse\u001b[39;00m:\n\u001b[1;32m    148\u001b[0m     error_msg \u001b[38;5;241m=\u001b[39m (\n\u001b[1;32m    149\u001b[0m         \u001b[38;5;124m\"\u001b[39m\u001b[38;5;124mfound the following matches with the input file in xarray\u001b[39m\u001b[38;5;124m'\u001b[39m\u001b[38;5;124ms IO \u001b[39m\u001b[38;5;124m\"\u001b[39m\n\u001b[1;32m    150\u001b[0m         \u001b[38;5;124mf\u001b[39m\u001b[38;5;124m\"\u001b[39m\u001b[38;5;124mbackends: \u001b[39m\u001b[38;5;132;01m{\u001b[39;00mcompatible_engines\u001b[38;5;132;01m}\u001b[39;00m\u001b[38;5;124m. But their dependencies may not be installed, see:\u001b[39m\u001b[38;5;130;01m\\n\u001b[39;00m\u001b[38;5;124m\"\u001b[39m\n\u001b[1;32m    151\u001b[0m         \u001b[38;5;124m\"\u001b[39m\u001b[38;5;124mhttps://docs.xarray.dev/en/stable/user-guide/io.html \u001b[39m\u001b[38;5;130;01m\\n\u001b[39;00m\u001b[38;5;124m\"\u001b[39m\n\u001b[1;32m    152\u001b[0m         \u001b[38;5;124m\"\u001b[39m\u001b[38;5;124mhttps://docs.xarray.dev/en/stable/getting-started-guide/installing.html\u001b[39m\u001b[38;5;124m\"\u001b[39m\n\u001b[1;32m    153\u001b[0m     )\n\u001b[0;32m--> 155\u001b[0m \u001b[38;5;28;01mraise\u001b[39;00m \u001b[38;5;167;01mValueError\u001b[39;00m(error_msg)\n",
      "\u001b[0;31mValueError\u001b[0m: found the following matches with the input file in xarray's IO backends: ['netcdf4', 'h5netcdf']. But their dependencies may not be installed, see:\nhttps://docs.xarray.dev/en/stable/user-guide/io.html \nhttps://docs.xarray.dev/en/stable/getting-started-guide/installing.html"
     ]
    },
    {
     "data": {
      "image/png": "[encoded data removed]",
      "text/plain": [
       "<Figure size 1200x400 with 2 Axes>"
      ]
     },
     "metadata": {
      "image/png": {
       "height": 361,
       "width": 1002
      }
     },
     "output_type": "display_data"
    }
   ],
   "source": [
    "\n",
    "fig, axes = plt.subplots(1, 2, figsize=(12,4))\n",
    "SECONDS_IN_YEAR = 60*60*24*365 #s\n",
    "for input in inputs:\n",
    "\n",
    "    label=input.split('_')[-1][:-3]\n",
    "    X = xr.open_dataset(input)\n",
    "    x = range(1850, 2015)\n",
    "    \n",
    "    weights = np.cos(np.deg2rad(X.latitude))\n",
    "    \n",
    "    axes[0].plot(x, X['CO2'].data, label=label)\n",
    "    axes[0].set_ylabel(\"Cumulative anthropogenic CO2 \\nemissions since 1850 (GtCO2)\")\n",
    "    axes[1].plot(x, X['CH4'].data, label=label)\n",
    "    axes[1].set_ylabel(\"Anthropogenic CH4 \\nemissions (GtCH4 / year)\")\n",
    "    \n",
    "axes[0].set_title('CO2')\n",
    "axes[1].set_title('CH4')\n",
    "axes[0].legend()\n",
    "plt.tight_layout()\n",
    "\n",
    "\n"
   ]
  },
  {
   "cell_type": "markdown",
   "id": "12bd5d89-b007-4905-86a0-40e699e63b79",
   "metadata": {},
   "source": [
    "Note that `hist-GHG` has the exact same CO2 & CH4 changes as `historical`"
   ]
  },
  {
   "cell_type": "code",
   "execution_count": null,
   "id": "ad2b328f-aeb7-45b4-8261-2483574a7bce",
   "metadata": {},
   "outputs": [],
   "source": [
    "y = xr.open_dataset('./Data/train_val/outputs_historical.nc').mean(dim=\"member\")[['tas']].drop(['quantile'])\n",
    "\n",
    "fig,axes = plt.subplots(figsize=(18,4),ncols=3)\n",
    "yr0, yr1, yr2 = 1900, 1950, 2000\n",
    "vmin, vmax = -5, 5\n",
    "\n",
    "y.sel(time=yr0).tas.plot(ax=axes[0],vmin=vmin,vmax=vmax,cmap='RdBu_r')\n",
    "y.sel(time=yr1).tas.plot(ax=axes[1],vmin=vmin,vmax=vmax,cmap='RdBu_r')\n",
    "y.sel(time=yr2).tas.plot(ax=axes[2],vmin=vmin,vmax=vmax,cmap='RdBu_r')\n",
    "\n",
    "plt.tight_layout()"
   ]
  },
  {
   "cell_type": "markdown",
   "id": "d24517a6-8ef0-4a48-8bd8-6c4fb7f5d707",
   "metadata": {
    "tags": []
   },
   "source": [
    "### future scenarios\n",
    "\n",
    "Also, ClimateBench can project future changes under different scenarios (e.g., ssp126, ssp245, ssp585).\n",
    "\n",
    "\n",
    "There are 5 future scenarios provided here:"
   ]
  },
  {
   "cell_type": "code",
   "execution_count": null,
   "id": "331be8f8-bf1d-4573-b638-189c82bed403",
   "metadata": {},
   "outputs": [],
   "source": [
    "inputs = glob(train_path + \"inputs_s*.nc\")\n",
    "inputs.sort()\n",
    "inputs += glob(test_path + \"inputs_s*.nc\")\n",
    "inputs"
   ]
  },
  {
   "cell_type": "code",
   "execution_count": null,
   "id": "850ce0e3-ab85-4c12-95ab-bf66ce5ba965",
   "metadata": {},
   "outputs": [],
   "source": [
    "fig, axes = plt.subplots(1, 2, figsize=(12,4))\n",
    "SECONDS_IN_YEAR = 60*60*24*365 #s\n",
    "for input in inputs:\n",
    "\n",
    "    label=input.split('_')[-1][:-3]\n",
    "    X = xr.open_dataset(input)\n",
    "    x = range(2015, 2101)\n",
    "    \n",
    "    weights = np.cos(np.deg2rad(X.latitude))\n",
    "    \n",
    "    axes[0].plot(x, X['CO2'].data, label=label)\n",
    "    axes[0].set_ylabel(\"Cumulative anthropogenic CO2 \\nemissions since 1850 (GtCO2)\")\n",
    "    axes[1].plot(x, X['CH4'].data, label=label)\n",
    "    axes[1].set_ylabel(\"Anthropogenic CH4 \\nemissions (GtCH4 / year)\")\n",
    "    \n",
    "axes[0].set_title('CO2')\n",
    "axes[1].set_title('CH4')\n",
    "axes[0].legend()\n",
    "plt.tight_layout()\n",
    "\n"
   ]
  },
  {
   "cell_type": "code",
   "execution_count": null,
   "id": "1bf46106-43c5-4d37-9c22-eadaf5e83e08",
   "metadata": {},
   "outputs": [],
   "source": [
    "y = xr.open_dataset('./Data/train_val/outputs_ssp585.nc').mean(dim=\"member\")[['tas']].drop(['quantile'])\n",
    "\n",
    "fig,axes = plt.subplots(figsize=(18,4),ncols=3)\n",
    "yr0, yr1, yr2 = 2020, 2050, 2100\n",
    "vmin, vmax = -5, 5\n",
    "\n",
    "y.sel(time=yr0).tas.plot(ax=axes[0],vmin=vmin,vmax=vmax,cmap='RdBu_r')\n",
    "y.sel(time=yr1).tas.plot(ax=axes[1],vmin=vmin,vmax=vmax,cmap='RdBu_r')\n",
    "y.sel(time=yr2).tas.plot(ax=axes[2],vmin=vmin,vmax=vmax,cmap='RdBu_r')\n",
    "\n",
    "plt.tight_layout()"
   ]
  },
  {
   "cell_type": "markdown",
   "id": "2471d9e1-38e9-4560-b75a-3c4ede306b3d",
   "metadata": {
    "tags": []
   },
   "source": [
    "## Use Neural Networks (NN) for temperature prediction\n",
    "\n",
    "\n",
    "Now, we are trying to use NN to predict the surface air temperature (tas), based on the time series of CO2 & CH4 emissions"
   ]
  },
  {
   "cell_type": "markdown",
   "id": "131b55ee-397d-4b77-9348-63cd758ddd47",
   "metadata": {
    "tags": []
   },
   "source": [
    "### 1. data preprocssing: prepare data for training & test sets"
   ]
  },
  {
   "cell_type": "markdown",
   "id": "88c5319c-42ba-4c7b-acb1-c456eb6941fe",
   "metadata": {},
   "source": [
    "#### import data as training & test sets\n",
    "\n",
    "Here we train NN using simulations from 3 historical and 3 future scenarios. Then we test the trained NN using the ssp245 scenario."
   ]
  },
  {
   "cell_type": "code",
   "execution_count": null,
   "id": "f02b8d82-0c79-4b9e-a837-f93dc8d5f888",
   "metadata": {},
   "outputs": [],
   "source": [
    "# Training set\n",
    "train_files    = [\"historical\", \"ssp585\", \"ssp126\", \"ssp370\",\"hist-aer\",\"hist-GHG\"]\n",
    "X_train_xr, _  = prepare_predictor(train_files,train_path)\n",
    "y_train_xr, _  = prepare_predictand(train_files,train_path)\n",
    "\n",
    "# Test set\n",
    "X_test_xr, _ = prepare_predictor('ssp245', data_path=test_path,time_reindex=False)\n",
    "y_test_xr, _ = prepare_predictand('ssp245',data_path=test_path,time_reindex=False)"
   ]
  },
  {
   "cell_type": "markdown",
   "id": "d5bada06-301f-4473-a450-7bf036483927",
   "metadata": {},
   "source": [
    "#### select relevant variables\n",
    "\n",
    "predictors: CO2 & CH4 <br/>\n",
    "predictand: tas"
   ]
  },
  {
   "cell_type": "code",
   "execution_count": null,
   "id": "be02c1e3-9d35-45d6-9183-16f2327af69a",
   "metadata": {},
   "outputs": [],
   "source": [
    "X_train_df = pd.DataFrame({\"CO2\": X_train_xr[\"CO2\"].data,\n",
    "                           \"CH4\": X_train_xr[\"CH4\"].data\n",
    "                          }, index=X_train_xr[\"CO2\"].coords['time'].data)\n",
    "\n",
    "X_test_df  = pd.DataFrame({\"CO2\": X_test_xr[\"CO2\"].data,\n",
    "                           \"CH4\": X_test_xr[\"CH4\"].data\n",
    "                          }, index=X_test_xr[\"CO2\"].coords['time'].data)\n",
    "\n",
    "\n",
    "y_train_df = y_train_xr[\"tas\"].stack(dim=[\"latitude\", \"longitude\"])\n",
    "y_train_df = pd.DataFrame(y_train_df.to_pandas())"
   ]
  },
  {
   "cell_type": "markdown",
   "id": "3faad437-2bfe-45b9-aee9-ae011fa19135",
   "metadata": {},
   "source": [
    "This is how our predictors & predictand data look like:"
   ]
  },
  {
   "cell_type": "code",
   "execution_count": null,
   "id": "dc644911-13ca-4308-bfc2-a4d9ade3af6c",
   "metadata": {},
   "outputs": [],
   "source": [
    "X_train_df.head()"
   ]
  },
  {
   "cell_type": "markdown",
   "id": "5bf91663-4133-460f-9b21-1b68499be07a",
   "metadata": {},
   "source": [
    "Note that here we stack the original 2-D tas data into a single dimension (for the purpose of NN implementation)"
   ]
  },
  {
   "cell_type": "code",
   "execution_count": null,
   "id": "d9d97dcd-a3d8-45f1-8755-a1b5deb78d7c",
   "metadata": {},
   "outputs": [],
   "source": [
    "y_train_df.head()"
   ]
  },
  {
   "cell_type": "markdown",
   "id": "2082bdb0-ffd1-47af-8655-d4e54e5bbc5f",
   "metadata": {},
   "source": [
    "#### Data normalization\n",
    "\n",
    "Let's normalize the input predictors by there mean & std"
   ]
  },
  {
   "cell_type": "code",
   "execution_count": null,
   "id": "c0bd2e58-4153-4b04-bf56-3bbb3d9ee1fc",
   "metadata": {},
   "outputs": [],
   "source": [
    "# Standardization\n",
    "mean, std = X_train_df.mean(), X_train_df.std()\n",
    "\n",
    "X_train_df   = (X_train_df - mean)/std\n",
    "X_test_df    = (X_test_df - mean)/std\n",
    "\n",
    "X_train = X_train_df.to_numpy()\n",
    "y_train = y_train_df.to_numpy()\n",
    "X_test = X_test_df.to_numpy()\n",
    "\n",
    "print(X_train.shape,y_train.shape)"
   ]
  },
  {
   "cell_type": "markdown",
   "id": "2dfb9221-c18a-4d91-a66a-7903c54ac893",
   "metadata": {
    "tags": []
   },
   "source": [
    "### 2. Define the NN structure"
   ]
  },
  {
   "cell_type": "markdown",
   "id": "00f00a4b-515c-41dc-82cb-ed5d1a6cd01e",
   "metadata": {},
   "source": [
    "Now the data preprocessing has been finished! Let's define our NN structure, which is shown in the below schematic.\n",
    "\n",
    "Here the NN we use has 3 hidden layers, and each hidden layer has 64 neurons. \n",
    "\n",
    "The NN input layer has 2 neurons, corresponding to CO2 & CH4 inputs respectively. \n",
    "\n",
    "The NN outputs are the global tas, each neuron of the output layer corresponds to each pixel. There are 13824 pixels in total (number of latitude: 96, number of longitude: 144)"
   ]
  },
  {
   "cell_type": "markdown",
   "id": "55339419-2f0c-489c-934f-e08d070bbf24",
   "metadata": {},
   "source": [
    "![title](https://drive.google.com/uc?export=view&id=1wCIEX6GAN5h0_XOd23eUtdnkjpOJPpde)"
   ]
  },
  {
   "cell_type": "markdown",
   "id": "54f158c5-b8e8-40f8-afa2-a167a2bd6f7e",
   "metadata": {},
   "source": [
    "Here are the hyperparameters for the NN training, such as the number of neurons per layer, learning rate, etc. Note that these hyperparameters here are for demonstration purposes only - they are not optimized.  "
   ]
  },
  {
   "cell_type": "code",
   "execution_count": null,
   "id": "4c789ea7-7c3c-444b-92db-4bcb3b43980b",
   "metadata": {},
   "outputs": [],
   "source": [
    "# set hyperparameters\n",
    "n_neuron       = 64\n",
    "activation     = 'relu'\n",
    "num_epochs     = 50\n",
    "learning_rate  = 0.001\n",
    "minibatch_size = 64\n",
    "model_num      = 1"
   ]
  },
  {
   "cell_type": "code",
   "execution_count": null,
   "id": "60d9e5eb-2db7-4b13-ada2-5224b612878c",
   "metadata": {},
   "outputs": [],
   "source": [
    "model = Sequential()\n",
    "\n",
    "model.add(Dense(n_neuron,  activation=activation,input_shape=(X_train.shape[1],))) #  the 1st hidden layer \n",
    "model.add(Dense(n_neuron,  activation=activation)) # the 2nd hidden layer\n",
    "model.add(Dense(n_neuron,  activation=activation)) # the 3rd hidden layer\n",
    "model.add(Dense(y_train.shape[1],  activation='linear')) # the output layer\n",
    "\n",
    "\n",
    "model.compile(loss='mse',optimizer=tf.keras.optimizers.Adam(learning_rate=learning_rate))"
   ]
  },
  {
   "cell_type": "code",
   "execution_count": null,
   "id": "2a567151-887f-4fe1-99e8-3fec1d827c34",
   "metadata": {},
   "outputs": [],
   "source": [
    "model.summary()"
   ]
  },
  {
   "cell_type": "markdown",
   "id": "30152a4b-7e71-466e-89a3-990358c52831",
   "metadata": {
    "tags": []
   },
   "source": [
    "### 3. Train & save the NN model"
   ]
  },
  {
   "cell_type": "markdown",
   "id": "982e72c3-51f5-4f02-8f52-e13c17e3b747",
   "metadata": {},
   "source": [
    "Here we use `EarlyStopping` to avoid over-fitting"
   ]
  },
  {
   "cell_type": "code",
   "execution_count": null,
   "id": "b346683c-1495-4a53-9e60-69476fa1aa82",
   "metadata": {
    "scrolled": true,
    "tags": []
   },
   "outputs": [],
   "source": [
    "early_stop = keras.callbacks.EarlyStopping(monitor='val_loss', patience=20)\n",
    "\n",
    "\n",
    "history = model.fit(X_train, y_train, \n",
    "                    batch_size      = minibatch_size,\n",
    "                    epochs          = num_epochs,\n",
    "                    validation_split= 0.2, \n",
    "                    verbose         = 1,\n",
    "                    callbacks       = [early_stop])\n",
    "\n"
   ]
  },
  {
   "cell_type": "code",
   "execution_count": null,
   "id": "4af8c31b-b2e6-46e6-a674-98ae3a69f276",
   "metadata": {},
   "outputs": [],
   "source": [
    "plot_history(history)"
   ]
  },
  {
   "cell_type": "markdown",
   "id": "9533761f-55bf-4503-a173-91f40100c427",
   "metadata": {},
   "source": [
    "we can save the trained model as the `.h5` file."
   ]
  },
  {
   "cell_type": "code",
   "execution_count": null,
   "id": "8f570f7c-fade-41a8-a6b2-41e2164e1154",
   "metadata": {},
   "outputs": [],
   "source": [
    "model_path = './saved_model/'\n",
    "make_dir(model_path)"
   ]
  },
  {
   "cell_type": "code",
   "execution_count": null,
   "id": "140e3382-5f0f-4962-ab5d-18980d175e2b",
   "metadata": {},
   "outputs": [],
   "source": [
    "# Save the entire model to a HDF5 file.\n",
    "# The '.h5' extension indicates that the model should be saved to HDF5.\n",
    "model.save(model_path+'NN_model.h5')"
   ]
  },
  {
   "cell_type": "markdown",
   "id": "df6d313e-f540-432c-b928-432f38817f45",
   "metadata": {
    "tags": []
   },
   "source": [
    "### 4. Evaluate the trained model\n",
    "\n",
    "Now let's evaluate the trained NN on the test set, by comparing the NN predictions against the tas originally simulated under the ssp245 scenario. "
   ]
  },
  {
   "cell_type": "code",
   "execution_count": null,
   "id": "9a2038b4-476d-4059-8189-408fd15f202f",
   "metadata": {},
   "outputs": [],
   "source": [
    "# reload the saved model\n",
    "model = load_model(model_path+'NN_model.h5')\n"
   ]
  },
  {
   "cell_type": "code",
   "execution_count": null,
   "id": "4f16b202-c776-494b-84b8-0b10cfeff7d5",
   "metadata": {},
   "outputs": [],
   "source": [
    "y_test_pre = model.predict(X_test)\n",
    "y_test_pre = y_test_pre.reshape(y_test_pre.shape[0], 96, 144)\n",
    "\n",
    "y_test_pre = xr.Dataset(coords={'time': X_test_xr.time.values, \n",
    "                               'latitude': X_test_xr.latitude.values, \n",
    "                               'longitude': X_test_xr.longitude.values},\n",
    "                       data_vars=dict(tas=(['time', 'latitude', 'longitude'], y_test_pre)))"
   ]
  },
  {
   "cell_type": "code",
   "execution_count": null,
   "id": "5d34543c-fca1-423f-8dbc-4e5b62d52218",
   "metadata": {},
   "outputs": [],
   "source": [
    "fig, axes = plt.subplots(figsize=(15,12),ncols=2,nrows=3)\n",
    "\n",
    "yrs = [2030, 2050, 2100]\n",
    "vmin, vmax    = -6, 6\n",
    "cmap = 'RdBu_r'\n",
    "y_test_pre.tas.sel(time=yrs[0]).plot(ax=axes[0,0], vmin=vmin, vmax=vmax,cmap=cmap)\n",
    "y_test_xr.tas.sel(time=yrs[0]).plot(ax=axes[0,1], vmin=vmin, vmax=vmax,cmap=cmap)\n",
    "\n",
    "y_test_pre.tas.sel(time=yrs[1]).plot(ax=axes[1,0], vmin=vmin, vmax=vmax,cmap=cmap)\n",
    "y_test_xr.tas.sel(time=yrs[1]).plot(ax=axes[1,1], vmin=vmin, vmax=vmax,cmap=cmap)\n",
    "\n",
    "y_test_pre.tas.sel(time=yrs[2]).plot(ax=axes[2,0], vmin=vmin, vmax=vmax,cmap=cmap)\n",
    "y_test_xr.tas.sel(time=yrs[2]).plot(ax=axes[2,1], vmin=vmin, vmax=vmax,cmap=cmap)\n",
    "\n",
    "\n",
    "for i, ax in enumerate(axes.flat):\n",
    "    # left column: model prediction\n",
    "    if i % 2 == 0:\n",
    "        ax.set_title(f'tas model prediction (year = {yrs[i//2]})',fontweight='bold')\n",
    "    # right column: truth tas from ssp245 simulations\n",
    "    else:\n",
    "        ax.set_title(f'tas truth (year = {yrs[i//2]})',fontweight='bold')\n",
    "plt.tight_layout()"
   ]
  },
  {
   "cell_type": "code",
   "execution_count": null,
   "id": "06acb05f-7580-4f4a-8730-d5db80c62545",
   "metadata": {},
   "outputs": [],
   "source": []
  },
  {
   "cell_type": "code",
   "execution_count": null,
   "id": "66ea1acd",
   "metadata": {},
   "outputs": [],
   "source": []
  },
  {
   "cell_type": "code",
   "execution_count": null,
   "id": "a9239fbf",
   "metadata": {},
   "outputs": [],
   "source": []
  },
  {
   "cell_type": "code",
   "execution_count": null,
   "id": "6ef671f6",
   "metadata": {},
   "outputs": [],
   "source": []
  }
 ],
 "metadata": {
  "kernelspec": {
   "display_name": "Python 3 (ipykernel)",
   "language": "python",
   "name": "python3"
  },
  "language_info": {
   "codemirror_mode": {
    "name": "ipython",
    "version": 3
   },
   "file_extension": ".py",
   "mimetype": "text/x-python",
   "name": "python",
   "nbconvert_exporter": "python",
   "pygments_lexer": "ipython3",
   "version": "3.10.6"
  }
 },
 "nbformat": 4,
 "nbformat_minor": 5
}
