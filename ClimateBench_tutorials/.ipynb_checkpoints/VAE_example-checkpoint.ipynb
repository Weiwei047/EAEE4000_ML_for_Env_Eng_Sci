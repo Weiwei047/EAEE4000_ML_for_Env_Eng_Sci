{
 "cells": [
  {
   "cell_type": "markdown",
   "id": "c01bf406-75b7-4d8a-aae4-1d44af1798d2",
   "metadata": {},
   "source": [
    "**This notebook introduces how to train a conditional VAE model from scratch. <br/>**\n",
    "We first use an encoder to compress the high-dimensional temperature data into latent vectors. Then, we incorporate CO2 & CH4 information into latent vectors, and use an decorder to reconstruct the global temperature map.\n",
    "\n",
    "By Weiwei Zhan\n",
    "\n",
    "Reference: https://towardsdatascience.com/variational-autoencoders-as-generative-models-with-keras-e0c79415a7eb"
   ]
  },
  {
   "cell_type": "code",
   "execution_count": 4,
   "id": "cd6f247e-8a24-4c5b-93ee-bdfb52075e86",
   "metadata": {
    "tags": []
   },
   "outputs": [
    {
     "name": "stdout",
     "output_type": "stream",
     "text": [
      "The autoreload extension is already loaded. To reload it, use:\n",
      "  %reload_ext autoreload\n"
     ]
    }
   ],
   "source": [
    "import os\n",
    "import numpy as np\n",
    "import pandas as pd\n",
    "import matplotlib.pyplot as plt\n",
    "import xarray as xr\n",
    "from glob import glob\n",
    "\n",
    "import tensorflow as tf\n",
    "tf.compat.v1.disable_eager_execution()\n",
    "from tensorflow import keras\n",
    "from tensorflow.keras.models import Model, load_model\n",
    "from tensorflow.keras.layers import *\n",
    "from tensorflow.keras import Sequential\n",
    "from tensorflow.keras.regularizers import l1_l2\n",
    "from utils import * \n",
    "\n",
    "%matplotlib inline\n",
    "%config InlineBackend.figure_format = 'retina'\n",
    "%load_ext autoreload\n",
    "%autoreload 2\n",
    "\n",
    "plt.rcParams['savefig.dpi'] = 400\n",
    "plt.rcParams['font.size'] = 13\n",
    "plt.rcParams[\"legend.frameon\"] = False"
   ]
  },
  {
   "cell_type": "code",
   "execution_count": 5,
   "id": "a873fb1d-6570-4610-b2f6-2105098e77d6",
   "metadata": {},
   "outputs": [],
   "source": [
    "cwd = os.getcwd()\n",
    "\n",
    "train_path = os.path.join(cwd,'Data','train_val')\n",
    "test_path  = os.path.join(cwd,'Data','test')\n",
    "\n",
    "make_dir(train_path)\n",
    "make_dir(test_path)"
   ]
  },
  {
   "cell_type": "markdown",
   "id": "d49da1d3-2259-4f59-ae35-9bf1669cb7ab",
   "metadata": {},
   "source": [
    "### 1. data preprocssing: prepare data for training & test sets"
   ]
  },
  {
   "cell_type": "code",
   "execution_count": 6,
   "id": "3bffd63a-2676-4cbb-b8f2-ed26f98f5dd8",
   "metadata": {},
   "outputs": [],
   "source": [
    "# Training set\n",
    "train_files = [\"historical\", \"ssp585\", \"ssp126\", \"ssp370\",\"hist-GHG\",\"hist-aer\"]\n",
    "X_train_xr, X_length  = prepare_predictor(train_files,train_path)\n",
    "y_train_xr, y_length  = prepare_predictand(train_files,train_path)\n",
    "\n",
    "# Test set\n",
    "X_test_xr, _ = prepare_predictor('ssp245', data_path=test_path,time_reindex=False)\n",
    "y_test_xr, _ = prepare_predictand('ssp245',data_path=test_path,time_reindex=False)\n"
   ]
  },
  {
   "cell_type": "markdown",
   "id": "11e1631f-0263-4a3a-864e-a2b0e6c5cf72",
   "metadata": {},
   "source": [
    "#### Data normalization"
   ]
  },
  {
   "cell_type": "markdown",
   "id": "07c7db37-ecff-44bb-bc33-d6c07b50dbce",
   "metadata": {},
   "source": [
    "normalize the CO2 & CH4 time series"
   ]
  },
  {
   "cell_type": "code",
   "execution_count": null,
   "id": "a83455b9-7276-4938-ba9d-570bd1c85783",
   "metadata": {},
   "outputs": [],
   "source": [
    "X_train_df = pd.DataFrame({\"CO2\": X_train_xr[\"CO2\"].data,\n",
    "                           \"CH4\": X_train_xr[\"CH4\"].data\n",
    "                          }, index=X_train_xr[\"CO2\"].coords['time'].data)\n",
    "\n",
    "X_test_df  = pd.DataFrame({\"CO2\": X_test_xr[\"CO2\"].data,\n",
    "                           \"CH4\": X_test_xr[\"CH4\"].data\n",
    "                          }, index=X_test_xr[\"CO2\"].coords['time'].data)\n",
    "\n",
    "# Normalization\n",
    "mean, std = X_train_df.mean(), X_train_df.std()\n",
    "\n",
    "X_train_df   = (X_train_df - mean)/std\n",
    "X_test_df    = (X_test_df - mean)/std\n",
    "\n",
    "X_train = X_train_df.to_numpy()\n",
    "X_test = X_test_df.to_numpy()\n",
    "\n",
    "print(X_train.shape,X_test.shape)"
   ]
  },
  {
   "cell_type": "markdown",
   "id": "de6fcba7-4bfb-4f51-8ec0-0727a656afea",
   "metadata": {},
   "source": [
    "normalize the 2-D temperature data "
   ]
  },
  {
   "cell_type": "code",
   "execution_count": null,
   "id": "33811fbf-e1f4-496a-929d-4d8470d10ab7",
   "metadata": {},
   "outputs": [],
   "source": [
    "var  = 'tas'\n",
    "y_train = y_train_xr[var].data\n",
    "y_test  = y_test_xr[var].data\n",
    "\n",
    "mean = y_train.mean()\n",
    "std  = y_train.std()\n",
    "\n",
    "y_train = (y_train - mean)/std\n",
    "y_test  = (y_test - mean)/std\n",
    "\n",
    "y_train = np.expand_dims(y_train, -1).astype(\"float32\") \n",
    "y_test  = np.expand_dims(y_test, -1).astype(\"float32\") \n",
    "\n",
    "n_lat, n_lon = y_train.shape[1], y_train.shape[2]\n",
    "print(y_train.shape,y_test.shape)"
   ]
  },
  {
   "cell_type": "markdown",
   "id": "264c69b6-9376-4476-a0bb-6887edef7eb5",
   "metadata": {},
   "source": [
    "### 2. Define the VAE architecture"
   ]
  },
  {
   "cell_type": "markdown",
   "id": "18b6dfef-9ea4-46ee-af21-a488c5448508",
   "metadata": {},
   "source": [
    "![VAE_structure](https://drive.google.com/uc?export=view&id=1yVOTtfQTJEEijNWldOhNk3grO6QNT28E)\n",
    "\n",
    "\n",
    "figure source: https://lilianweng.github.io/posts/2018-08-12-vae/"
   ]
  },
  {
   "cell_type": "code",
   "execution_count": null,
   "id": "9cc96d5a-c390-4301-9483-d41c726b3eaf",
   "metadata": {},
   "outputs": [],
   "source": [
    "latent_dim = 2   # dimensions of the latent space\n",
    "n_filters  = 32  # number of filters for the convolutional layers\n",
    "n_neurons  = 32  # number of neurons for the Dense layers\n",
    "activation = 'relu' # activation function\n",
    "kernal_size = 4\n",
    "learning_rate = 0.001\n",
    "minibatch_size = 64\n",
    "num_epochs     = 200"
   ]
  },
  {
   "cell_type": "markdown",
   "id": "943e1bbe-ac8c-4286-8419-1c492a86182f",
   "metadata": {},
   "source": [
    "#### Build Encoder & Sampling for the latent vector"
   ]
  },
  {
   "cell_type": "code",
   "execution_count": null,
   "id": "a8bf3759-cfdc-46e3-93d1-e7527976012f",
   "metadata": {
    "scrolled": true,
    "tags": []
   },
   "outputs": [],
   "source": [
    "encoder_inputs = Input(shape=(n_lat, n_lon, 1)) # shape: (96,144,1)\n",
    "x = Conv2D(n_filters, kernal_size, activation=activation, strides=2, padding=\"same\")(encoder_inputs) # shape: (48,72,32)\n",
    "x = Conv2D(n_filters, kernal_size, activation=activation, strides=2, padding=\"same\")(x) # shape: (24,36,32)\n",
    "x = Conv2D(n_filters, kernal_size, activation=activation, strides=2, padding=\"same\")(x) # shape: (12,18,32)\n",
    "x = Flatten()(x) # shape: (6912,1)\n",
    "x = Dense(n_neurons, activation=activation)(x) # shape: (16,1)\n",
    "\n",
    "\n",
    "z_mean    = Dense(latent_dim, name=\"z_mean\")(x) # shape: (2,1)\n",
    "z_log_var = Dense(latent_dim, name=\"z_log_var\")(x) # shape: (2,1)\n",
    "\n",
    "\n",
    "def sample_latent_features(distribution):\n",
    "    \"\"\"\n",
    "    This function takes previously calculated mean & variance, \n",
    "    and returns back a latent encoding vector. \n",
    "    \"\"\"\n",
    "    \n",
    "    distribution_mean, distribution_variance = distribution\n",
    "    batch_size = tf.shape(distribution_variance)[0]\n",
    "    random = tf.keras.backend.random_normal(shape=(batch_size, tf.shape(distribution_variance)[1]))\n",
    "    return distribution_mean + tf.exp(0.5 * distribution_variance) * random\n",
    "\n",
    "\n",
    "z         = Lambda(sample_latent_features)([z_mean, z_log_var])\n",
    "\n",
    "encoder_model = Model(encoder_inputs, z, name=\"encoder\")\n",
    "encoder_model.summary()"
   ]
  },
  {
   "cell_type": "markdown",
   "id": "9fe3b130-2db9-43a5-aa0a-712ef4da384f",
   "metadata": {},
   "source": [
    "#### Build Decoder\n",
    "\n",
    "Here we additionally include CO2 & CH4 as Decoder inputs (the `cond_input` variable)"
   ]
  },
  {
   "cell_type": "code",
   "execution_count": null,
   "id": "5df59e96-3116-4af8-bb72-3b422c98a0f7",
   "metadata": {},
   "outputs": [],
   "source": [
    "decoder_input = Input(shape=(latent_dim,)) # shape: (2,1)\n",
    "cond_input    = Input(shape=(X_train.shape[1],)) # shape: (2,1)\n",
    "x = keras.layers.Concatenate(axis=1)([decoder_input, cond_input]) # shape: (4,1)\n",
    "x = Dense(12 * 18 * n_filters, activation=activation)(x) # shape: (6912,1)\n",
    "x = Reshape((12, 18, n_filters))(x) # shape: (12,18,32)\n",
    "x = Conv2DTranspose(n_filters, kernal_size, activation=activation, strides=2, padding=\"same\")(x) # shape: (24,36,32)\n",
    "x = Conv2DTranspose(n_filters, kernal_size, activation=activation, strides=2, padding=\"same\")(x) # shape: (48,72,32)\n",
    "x = Conv2DTranspose(n_filters, kernal_size, activation=activation, strides=2, padding=\"same\")(x) # shape: (96,144,32)\n",
    "decoder_output = Conv2DTranspose(1, kernal_size, activation=\"linear\", padding=\"same\")(x) # shape: (96,144,1)\n",
    "decoder_model = Model([decoder_input,cond_input], decoder_output, name=\"decoder\")\n",
    "decoder_model.summary()"
   ]
  },
  {
   "cell_type": "markdown",
   "id": "4252d094-0420-4e5d-98ea-7a89b0352427",
   "metadata": {},
   "source": [
    "#### Build the conditional VAE"
   ]
  },
  {
   "cell_type": "code",
   "execution_count": null,
   "id": "fc6d2a34-1aed-4a54-ba4f-b647613c7964",
   "metadata": {},
   "outputs": [],
   "source": [
    "encoded = encoder_model(encoder_inputs)\n",
    "decoded = decoder_model([encoded,cond_input])\n",
    "autoencoder = Model([encoder_inputs,cond_input], decoded)"
   ]
  },
  {
   "cell_type": "markdown",
   "id": "eb6173d9-9bd9-45a7-8ce4-ec3b7c849976",
   "metadata": {},
   "source": [
    "#### Define the loss function: reconstruction loss + KL loss"
   ]
  },
  {
   "cell_type": "code",
   "execution_count": null,
   "id": "f0cf7cd3-b65b-40a6-9540-ff178c39c7c9",
   "metadata": {},
   "outputs": [],
   "source": [
    "def get_loss(distribution_mean, distribution_variance):\n",
    "    \n",
    "    def get_reconstruction_loss(y_true, y_pred):\n",
    "        reconstruction_loss = tf.keras.losses.mse(y_true, y_pred)\n",
    "        reconstruction_loss_batch = tf.reduce_mean(reconstruction_loss)\n",
    "        return reconstruction_loss_batch*96*144\n",
    "    \n",
    "    def get_kl_loss(distribution_mean, distribution_variance):\n",
    "        kl_loss = 1 + distribution_variance - tf.square(distribution_mean) - tf.exp(distribution_variance)\n",
    "        kl_loss_batch = tf.reduce_mean(kl_loss)\n",
    "        return kl_loss_batch*(-0.5)\n",
    "    \n",
    "    def total_loss(y_true, y_pred):\n",
    "        reconstruction_loss_batch = get_reconstruction_loss(y_true, y_pred)\n",
    "        kl_loss_batch = get_kl_loss(distribution_mean, distribution_variance)\n",
    "        return reconstruction_loss_batch + kl_loss_batch\n",
    "    \n",
    "    return total_loss"
   ]
  },
  {
   "cell_type": "code",
   "execution_count": null,
   "id": "c3331b9d-d9fe-44fa-9657-c616a2055c01",
   "metadata": {},
   "outputs": [],
   "source": [
    "autoencoder.compile(loss=get_loss(z_mean,z_log_var), \n",
    "                    optimizer=tf.keras.optimizers.Adam(learning_rate=learning_rate))\n",
    "autoencoder.summary()"
   ]
  },
  {
   "cell_type": "markdown",
   "id": "4e6b636f-06bc-40ec-bec2-1571ad2ec5c7",
   "metadata": {},
   "source": [
    "### 3. Train the VAE model\n",
    "\n",
    "this costs approximately ~1 hr"
   ]
  },
  {
   "cell_type": "code",
   "execution_count": null,
   "id": "acbee65c-575e-43c0-be12-b1008ac9d9cf",
   "metadata": {
    "scrolled": true,
    "tags": []
   },
   "outputs": [],
   "source": [
    "early_stop = keras.callbacks.EarlyStopping(monitor='val_loss', patience=20)\n",
    "\n",
    "history = autoencoder.fit([y_train,X_train], y_train, \n",
    "                          epochs=num_epochs, \n",
    "                          batch_size=minibatch_size, \n",
    "                          validation_split=0.2)"
   ]
  },
  {
   "cell_type": "code",
   "execution_count": null,
   "id": "811a342e-cdec-418e-a244-94904abd9a7b",
   "metadata": {},
   "outputs": [],
   "source": [
    "def plot_history(history):\n",
    "    plt.figure()\n",
    "    plt.xlabel('Epoch')\n",
    "    plt.ylabel('Mean Sqaured Error')\n",
    "    plt.plot(history.epoch, np.array(history.history['loss']),\n",
    "           label='Train Loss')\n",
    "    plt.plot(history.epoch, np.array(history.history['val_loss']),\n",
    "           label = 'Val loss')\n",
    "    plt.legend()\n",
    "    \n",
    "    \n",
    "plot_history(history)"
   ]
  },
  {
   "cell_type": "markdown",
   "id": "8aa2495d-8972-4125-9ab5-3ef384092606",
   "metadata": {},
   "source": [
    "### 4. evaluate the model performance\n",
    "\n",
    "Let's test the reconstruction capabilities of our VAE model on the test set."
   ]
  },
  {
   "cell_type": "code",
   "execution_count": null,
   "id": "83f7efba-76e3-4218-ae27-07ed18650eaf",
   "metadata": {},
   "outputs": [],
   "source": [
    "z = encoder_model.predict(y_test)\n",
    "y_test_pre = decoder_model.predict([z,X_test])\n",
    "\n",
    "y_test_pre = y_test_pre*std + mean\n",
    "\n",
    "y_test_pre = y_test_pre.reshape(y_test_pre.shape[0], 96, 144)\n",
    "y_test_pre = xr.Dataset(coords={'time': y_test_xr.time.values, \n",
    "                               'latitude': y_test_xr.latitude.values, \n",
    "                               'longitude': y_test_xr.longitude.values},\n",
    "                       data_vars=dict(tas=(['time', 'latitude', 'longitude'], y_test_pre)))"
   ]
  },
  {
   "cell_type": "markdown",
   "id": "cfd48f49-0255-47d3-ad32-ad7de6ce454b",
   "metadata": {},
   "source": [
    "Comparisons in terms of the spatial distribution"
   ]
  },
  {
   "cell_type": "code",
   "execution_count": null,
   "id": "181e80ce-be03-47c2-a3d8-913ea121c297",
   "metadata": {},
   "outputs": [],
   "source": [
    "fig, axes = plt.subplots(figsize=(15,12),ncols=2,nrows=3)\n",
    "\n",
    "yrs = [2030, 2050, 2100]\n",
    "vmin, vmax    = -6, 6\n",
    "cmap = 'RdBu_r'\n",
    "y_test_pre.tas.sel(time=yrs[0]).plot(ax=axes[0,0], vmin=vmin, vmax=vmax,cmap=cmap)\n",
    "y_test_xr.tas.sel(time=yrs[0]).plot(ax=axes[0,1], vmin=vmin, vmax=vmax,cmap=cmap)\n",
    "\n",
    "y_test_pre.tas.sel(time=yrs[1]).plot(ax=axes[1,0], vmin=vmin, vmax=vmax,cmap=cmap)\n",
    "y_test_xr.tas.sel(time=yrs[1]).plot(ax=axes[1,1], vmin=vmin, vmax=vmax,cmap=cmap)\n",
    "\n",
    "y_test_pre.tas.sel(time=yrs[2]).plot(ax=axes[2,0], vmin=vmin, vmax=vmax,cmap=cmap)\n",
    "y_test_xr.tas.sel(time=yrs[2]).plot(ax=axes[2,1], vmin=vmin, vmax=vmax,cmap=cmap)\n",
    "\n",
    "\n",
    "for i, ax in enumerate(axes.flat):\n",
    "    # left column: model prediction\n",
    "    if i % 2 == 0:\n",
    "        ax.set_title(f'VAE reconstruction (year = {yrs[i//2]})',fontweight='bold')\n",
    "    # right column: truth tas from ssp245 simulations\n",
    "    else:\n",
    "        ax.set_title(f'tas truth (year = {yrs[i//2]})',fontweight='bold')\n",
    "plt.tight_layout()"
   ]
  },
  {
   "cell_type": "markdown",
   "id": "8fa7f71c-edf1-40ee-a9d4-d93f9d6dfed1",
   "metadata": {},
   "source": [
    "Comparisons in terms of the temporal variability (under the ssp245 scenario)"
   ]
  },
  {
   "cell_type": "code",
   "execution_count": 5,
   "id": "66810869-7437-4cfb-9415-02cbe04c726f",
   "metadata": {},
   "outputs": [
    {
     "ename": "NameError",
     "evalue": "name 'y_test_xr' is not defined",
     "output_type": "error",
     "traceback": [
      "\u001b[0;31m---------------------------------------------------------------------------\u001b[0m",
      "\u001b[0;31mNameError\u001b[0m                                 Traceback (most recent call last)",
      "Input \u001b[0;32mIn [5]\u001b[0m, in \u001b[0;36m<cell line: 3>\u001b[0;34m()\u001b[0m\n\u001b[1;32m      1\u001b[0m fig, ax \u001b[38;5;241m=\u001b[39m plt\u001b[38;5;241m.\u001b[39msubplots(figsize\u001b[38;5;241m=\u001b[39m(\u001b[38;5;241m9\u001b[39m,\u001b[38;5;241m4\u001b[39m))\n\u001b[0;32m----> 3\u001b[0m yr,mean_truth \u001b[38;5;241m=\u001b[39m mean_std_plot(\u001b[43my_test_xr\u001b[49m[\u001b[38;5;124m'\u001b[39m\u001b[38;5;124mtas\u001b[39m\u001b[38;5;124m'\u001b[39m],color\u001b[38;5;241m=\u001b[39m\u001b[38;5;124m'\u001b[39m\u001b[38;5;124mtab:blue\u001b[39m\u001b[38;5;124m'\u001b[39m,label\u001b[38;5;241m=\u001b[39m\u001b[38;5;124m'\u001b[39m\u001b[38;5;124mtas truth\u001b[39m\u001b[38;5;124m'\u001b[39m,ax\u001b[38;5;241m=\u001b[39max)\n\u001b[1;32m      4\u001b[0m yr,mean_pre   \u001b[38;5;241m=\u001b[39m mean_std_plot(y_test_pre[\u001b[38;5;124m'\u001b[39m\u001b[38;5;124mtas\u001b[39m\u001b[38;5;124m'\u001b[39m],color\u001b[38;5;241m=\u001b[39m\u001b[38;5;124m'\u001b[39m\u001b[38;5;124mtab:orange\u001b[39m\u001b[38;5;124m'\u001b[39m,label\u001b[38;5;241m=\u001b[39m\u001b[38;5;124m'\u001b[39m\u001b[38;5;124mVAE reconstruction\u001b[39m\u001b[38;5;124m'\u001b[39m,ax\u001b[38;5;241m=\u001b[39max)\n\u001b[1;32m      6\u001b[0m ax\u001b[38;5;241m.\u001b[39mset_xlabel(\u001b[38;5;124m'\u001b[39m\u001b[38;5;124mYear\u001b[39m\u001b[38;5;124m'\u001b[39m)\n",
      "\u001b[0;31mNameError\u001b[0m: name 'y_test_xr' is not defined"
     ]
    },
    {
     "data": {
      "image/png": "[encoded data removed]",
      "text/plain": [
       "<Figure size 900x400 with 1 Axes>"
      ]
     },
     "metadata": {
      "image/png": {
       "height": 361,
       "width": 770
      }
     },
     "output_type": "display_data"
    }
   ],
   "source": [
    "fig, ax = plt.subplots(figsize=(9,4))\n",
    "\n",
    "yr,mean_truth = mean_std_plot(y_test_xr['tas'],color='tab:blue',label='tas truth',ax=ax)\n",
    "yr,mean_pre   = mean_std_plot(y_test_pre['tas'],color='tab:orange',label='VAE reconstruction',ax=ax)\n",
    "\n",
    "ax.set_xlabel('Year')\n",
    "ax.set_ylabel('tas (°C)')\n",
    "\n",
    "\n",
    "fig.legend(loc='upper left',bbox_to_anchor=(0.08,0.95),ncol=2)\n",
    "\n",
    "\n",
    "plt.tight_layout()"
   ]
  },
  {
   "cell_type": "code",
   "execution_count": null,
   "id": "3f590689-abde-4cf3-8310-04dc0fcc3960",
   "metadata": {},
   "outputs": [],
   "source": []
  },
  {
   "cell_type": "code",
   "execution_count": null,
   "id": "429ebf35",
   "metadata": {},
   "outputs": [],
   "source": []
  }
 ],
 "metadata": {
  "kernelspec": {
   "display_name": "Python 3 (ipykernel)",
   "language": "python",
   "name": "python3"
  },
  "language_info": {
   "codemirror_mode": {
    "name": "ipython",
    "version": 3
   },
   "file_extension": ".py",
   "mimetype": "text/x-python",
   "name": "python",
   "nbconvert_exporter": "python",
   "pygments_lexer": "ipython3",
   "version": "3.10.6"
  }
 },
 "nbformat": 4,
 "nbformat_minor": 5
}
