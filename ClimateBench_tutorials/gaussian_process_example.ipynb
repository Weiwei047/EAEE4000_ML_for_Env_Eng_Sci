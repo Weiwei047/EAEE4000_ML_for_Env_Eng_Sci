{
 "cells": [
  {
   "cell_type": "markdown",
   "id": "cad40259-69de-45c7-b834-4e18fb900402",
   "metadata": {},
   "source": [
    "**This notebook introduces how to apply gaussian process to predict the global temperature. <br/>**\n",
    "\n",
    "\n",
    "Reference: https://github.com/duncanwp/ClimateBench/blob/main/baseline_models/ClimateBenchGP_tas.ipynb"
   ]
  },
  {
   "cell_type": "markdown",
   "id": "f7e42400-6251-48cd-ae59-e11eca6fce74",
   "metadata": {},
   "source": [
    "**Note:** You would need the `gpflow` package to run this notebook. `gpflow` is built upon tensorflow and is widely used to build Gaussian process models in python.\n",
    "\n",
    "You can use `conda install -c conda-forge gpflow` to install it."
   ]
  },
  {
   "cell_type": "code",
   "execution_count": 1,
   "id": "5884c2b5-b2da-4530-98d7-a08a72e183f2",
   "metadata": {},
   "outputs": [
    {
     "name": "stderr",
     "output_type": "stream",
     "text": [
      "2022-10-25 20:42:00.211065: I tensorflow/core/platform/cpu_feature_guard.cc:193] This TensorFlow binary is optimized with oneAPI Deep Neural Network Library (oneDNN) to use the following CPU instructions in performance-critical operations:  SSE4.1 SSE4.2\n",
      "To enable them in other operations, rebuild TensorFlow with the appropriate compiler flags.\n"
     ]
    }
   ],
   "source": [
    "import os\n",
    "import numpy as np\n",
    "import pandas as pd\n",
    "import matplotlib.pyplot as plt\n",
    "from matplotlib import colors\n",
    "import xarray as xr\n",
    "from glob import glob\n",
    "\n",
    "import tensorflow as tf\n",
    "import gpflow\n",
    "from utils import * \n",
    "\n",
    "%matplotlib inline\n",
    "%config InlineBackend.figure_format = 'retina'\n",
    "%load_ext autoreload\n",
    "%autoreload 2\n",
    "\n",
    "plt.rcParams['savefig.dpi'] = 400\n",
    "plt.rcParams['font.size'] = 13\n",
    "plt.rcParams[\"legend.frameon\"] = False"
   ]
  },
  {
   "cell_type": "code",
   "execution_count": 4,
   "id": "887728a1-a839-421e-a992-b6353bb83c34",
   "metadata": {},
   "outputs": [],
   "source": [
    "cwd = os.getcwd()\n",
    "\n",
    "train_path = os.path.join(cwd,'Data','train_val')\n",
    "test_path  = os.path.join(cwd,'Data','test')\n",
    "\n",
    "make_dir(train_path)\n",
    "make_dir(test_path)"
   ]
  },
  {
   "cell_type": "markdown",
   "id": "a9247b1d-cc02-45f5-96d2-3000960fda0d",
   "metadata": {},
   "source": [
    "### 1. data preprocssing: prepare data for training & test sets"
   ]
  },
  {
   "cell_type": "markdown",
   "id": "173ef052-b318-4441-ad8f-4ec54ae0be8e",
   "metadata": {},
   "source": [
    "#### import data as training & test sets"
   ]
  },
  {
   "cell_type": "code",
   "execution_count": 5,
   "id": "61b64519-e8b3-4f79-a3aa-6b0bda117b0b",
   "metadata": {},
   "outputs": [],
   "source": [
    "# Training set\n",
    "train_files = [\"historical\", \"ssp585\", \"ssp126\", \"ssp370\",\"hist-aer\",\"hist-GHG\"]\n",
    "X_train_xr, X_length  = prepare_predictor(train_files,train_path)\n",
    "y_train_xr, y_length  = prepare_predictand(train_files,train_path)\n",
    "\n",
    "# Test set\n",
    "X_test_xr, _ = prepare_predictor('ssp245', data_path=test_path,time_reindex=False)\n",
    "y_test_xr, _ = prepare_predictand('ssp245',data_path=test_path,time_reindex=False)"
   ]
  },
  {
   "cell_type": "markdown",
   "id": "a2c6386a-e90d-4b8d-87cc-705302af371c",
   "metadata": {},
   "source": [
    "#### select relevant variables\n",
    "\n",
    "predictors: CO2 & CH4 <br/>\n",
    "predictand: tas"
   ]
  },
  {
   "cell_type": "code",
   "execution_count": 6,
   "id": "350d3906-b916-49f3-b603-ff0d38cf8129",
   "metadata": {},
   "outputs": [],
   "source": [
    "X_train_df = pd.DataFrame({\"CO2\": X_train_xr[\"CO2\"].data,\n",
    "                           \"CH4\": X_train_xr[\"CH4\"].data\n",
    "                          }, index=X_train_xr[\"CO2\"].coords['time'].data)\n",
    "\n",
    "X_test_df  = pd.DataFrame({\"CO2\": X_test_xr[\"CO2\"].data,\n",
    "                           \"CH4\": X_test_xr[\"CH4\"].data\n",
    "                          }, index=X_test_xr[\"CO2\"].coords['time'].data)\n",
    "\n",
    "\n",
    "y_train_df = y_train_xr[\"tas\"].stack(dim=[\"latitude\", \"longitude\"])\n",
    "y_train_df = pd.DataFrame(y_train_df.to_pandas())"
   ]
  },
  {
   "cell_type": "markdown",
   "id": "1dcaf355-ba9c-4796-b925-6c0bb0312356",
   "metadata": {},
   "source": [
    "#### Data standardization"
   ]
  },
  {
   "cell_type": "code",
   "execution_count": 7,
   "id": "7ae1d26b-d500-43b8-9c4c-eac3cb7adda0",
   "metadata": {},
   "outputs": [],
   "source": [
    "# Standardize the predictors\n",
    "mean, std = X_train_df.mean(), X_train_df.std()\n",
    "\n",
    "X_train_df   = (X_train_df - mean)/std\n",
    "X_test_df    = (X_test_df - mean)/std\n",
    "\n",
    "X_train = X_train_df.to_numpy()\n",
    "X_test  = X_test_df.to_numpy()\n"
   ]
  },
  {
   "cell_type": "code",
   "execution_count": 8,
   "id": "fd45edc1-9211-4e1e-b05a-c11e4e8d137a",
   "metadata": {},
   "outputs": [
    {
     "name": "stdout",
     "output_type": "stream",
     "text": [
      "(753, 2) (753, 13824) (86, 2)\n"
     ]
    }
   ],
   "source": [
    "# Standardize the predictand \n",
    "y_train    = y_train_df.to_numpy().astype(np.float64)\n",
    "train_tas_mean, train_tas_std = y_train.mean(), y_train.std()\n",
    "y_train    = (y_train - train_tas_mean) / train_tas_std\n",
    "\n",
    "\n",
    "print(X_train.shape,y_train.shape,X_test.shape)"
   ]
  },
  {
   "cell_type": "markdown",
   "id": "027b67aa-f7ee-4fef-9bfe-aa661993cdc1",
   "metadata": {},
   "source": [
    "### 2. Build & train the Gaussian process model"
   ]
  },
  {
   "cell_type": "code",
   "execution_count": 9,
   "id": "eaf8427e-2c11-42d5-8846-1d2dd5dc3de6",
   "metadata": {},
   "outputs": [
    {
     "name": "stderr",
     "output_type": "stream",
     "text": [
      "2022-10-25 20:42:49.867344: I tensorflow/core/platform/cpu_feature_guard.cc:193] This TensorFlow binary is optimized with oneAPI Deep Neural Network Library (oneDNN) to use the following CPU instructions in performance-critical operations:  SSE4.1 SSE4.2\n",
      "To enable them in other operations, rebuild TensorFlow with the appropriate compiler flags.\n"
     ]
    }
   ],
   "source": [
    "# Define the kernels Matern32\n",
    "kernel_CO2 = gpflow.kernels.Matern32(active_dims=[0])\n",
    "kernel_CH4 = gpflow.kernels.Matern32(active_dims=[1])\n",
    "\n",
    "kernel = kernel_CO2 + kernel_CH4\n",
    "\n",
    "# Define the model\n",
    "np.random.seed(5)\n",
    "mean  = gpflow.mean_functions.Constant()\n",
    "model = gpflow.models.GPR(data=(X_train, y_train),\n",
    "                          kernel=kernel,\n",
    "                          mean_function=mean)\n",
    "\n",
    "# Define optimizer\n",
    "opt = gpflow.optimizers.Scipy()"
   ]
  },
  {
   "cell_type": "code",
   "execution_count": 10,
   "id": "2f3c517e-4e46-4a38-8302-e5818f2d0f7e",
   "metadata": {
    "scrolled": true,
    "tags": []
   },
   "outputs": [
    {
     "name": "stderr",
     "output_type": "stream",
     "text": [
      " This problem is unconstrained.\n"
     ]
    },
    {
     "name": "stdout",
     "output_type": "stream",
     "text": [
      "RUNNING THE L-BFGS-B CODE\n",
      "\n",
      "           * * *\n",
      "\n",
      "Machine precision = 2.220D-16\n",
      " N =            6     M =           10\n",
      "\n",
      "At X0         0 variables are exactly at the bounds\n",
      "\n",
      "At iterate    0    f=  1.06006D+07    |proj g|=  2.80826D+06\n",
      "\n",
      "At iterate    1    f=  4.73146D+06    |proj g|=  1.29388D+06\n",
      "\n",
      "At iterate    2    f=  4.48439D+06    |proj g|=  1.39230D+05\n",
      "\n",
      "At iterate    3    f=  4.48098D+06    |proj g|=  4.11743D+04\n",
      "\n",
      "At iterate    4    f=  4.47600D+06    |proj g|=  3.79044D+04\n",
      "\n",
      "At iterate    5    f=  4.44283D+06    |proj g|=  9.45750D+04\n",
      "\n",
      "At iterate    6    f=  4.43476D+06    |proj g|=  4.39758D+04\n",
      "\n",
      "At iterate    7    f=  4.43287D+06    |proj g|=  9.47256D+03\n",
      "\n",
      "At iterate    8    f=  4.43243D+06    |proj g|=  1.09219D+04\n",
      "\n",
      "At iterate    9    f=  4.43155D+06    |proj g|=  2.74722D+04\n",
      "\n",
      "At iterate   10    f=  4.42973D+06    |proj g|=  4.38836D+04\n",
      "\n",
      "At iterate   11    f=  4.42647D+06    |proj g|=  4.75246D+04\n",
      "\n",
      "At iterate   12    f=  4.42093D+06    |proj g|=  3.68952D+03\n",
      "\n",
      "At iterate   13    f=  4.41948D+06    |proj g|=  2.45855D+04\n",
      "\n",
      "At iterate   14    f=  4.41878D+06    |proj g|=  5.60214D+04\n",
      "\n",
      "At iterate   15    f=  4.41607D+06    |proj g|=  7.41098D+04\n",
      "\n",
      "At iterate   16    f=  4.40948D+06    |proj g|=  3.38328D+04\n",
      "\n",
      "At iterate   17    f=  4.40610D+06    |proj g|=  4.05044D+03\n",
      "\n",
      "At iterate   18    f=  4.40519D+06    |proj g|=  1.93319D+04\n",
      "\n",
      "At iterate   19    f=  4.40479D+06    |proj g|=  1.69751D+04\n",
      "\n",
      "At iterate   20    f=  4.40442D+06    |proj g|=  1.79106D+04\n",
      "\n",
      "At iterate   21    f=  4.40273D+06    |proj g|=  1.30912D+04\n",
      "\n",
      "At iterate   22    f=  4.40236D+06    |proj g|=  2.82212D+03\n",
      "\n",
      "At iterate   23    f=  4.40221D+06    |proj g|=  1.20164D+03\n",
      "\n",
      "At iterate   24    f=  4.40210D+06    |proj g|=  6.63738D+03\n",
      "\n",
      "At iterate   25    f=  4.40185D+06    |proj g|=  1.54233D+04\n",
      "\n",
      "At iterate   26    f=  4.40161D+06    |proj g|=  1.50381D+04\n",
      "\n",
      "At iterate   27    f=  4.40157D+06    |proj g|=  3.32894D+03\n",
      "\n",
      "At iterate   28    f=  4.40142D+06    |proj g|=  2.70825D+03\n",
      "\n",
      "At iterate   29    f=  4.40139D+06    |proj g|=  4.12292D+03\n",
      "\n",
      "At iterate   30    f=  4.40127D+06    |proj g|=  1.26131D+03\n",
      "\n",
      "At iterate   31    f=  4.40113D+06    |proj g|=  1.38463D+03\n",
      "\n",
      "At iterate   32    f=  4.40111D+06    |proj g|=  3.50746D+02\n",
      "\n",
      "At iterate   33    f=  4.40111D+06    |proj g|=  4.17757D+02\n",
      "\n",
      "At iterate   34    f=  4.40111D+06    |proj g|=  1.61864D+01\n",
      "\n",
      "At iterate   35    f=  4.40111D+06    |proj g|=  1.15983D+01\n",
      "\n"
     ]
    },
    {
     "data": {
      "text/plain": [
       "      fun: 4401108.245389356\n",
       " hess_inv: <6x6 LbfgsInvHessProduct with dtype=float64>\n",
       "      jac: array([-2.15244083,  1.62603828,  5.05573705, -2.96315709,  0.46423829,\n",
       "        3.04295061])\n",
       "  message: 'CONVERGENCE: REL_REDUCTION_OF_F_<=_FACTR*EPSMCH'\n",
       "     nfev: 47\n",
       "      nit: 36\n",
       "     njev: 47\n",
       "   status: 0\n",
       "  success: True\n",
       "        x: array([ 5.01687834,  4.59160979, -1.23551482, -3.49155934, -2.00813842,\n",
       "        0.82742157])"
      ]
     },
     "execution_count": 10,
     "metadata": {},
     "output_type": "execute_result"
    },
    {
     "name": "stdout",
     "output_type": "stream",
     "text": [
      "At iterate   36    f=  4.40111D+06    |proj g|=  5.05574D+00\n",
      "\n",
      "           * * *\n",
      "\n",
      "Tit   = total number of iterations\n",
      "Tnf   = total number of function evaluations\n",
      "Tnint = total number of segments explored during Cauchy searches\n",
      "Skip  = number of BFGS updates skipped\n",
      "Nact  = number of active bounds at final generalized Cauchy point\n",
      "Projg = norm of the final projected gradient\n",
      "F     = final function value\n",
      "\n",
      "           * * *\n",
      "\n",
      "   N    Tit     Tnf  Tnint  Skip  Nact     Projg        F\n",
      "    6     36     47      1     0     0   5.056D+00   4.401D+06\n",
      "  F =   4401108.2453893563     \n",
      "\n",
      "CONVERGENCE: REL_REDUCTION_OF_F_<=_FACTR*EPSMCH             \n"
     ]
    }
   ],
   "source": [
    "# Train model\n",
    "opt.minimize(model.training_loss,\n",
    "             variables=model.trainable_variables,\n",
    "             options=dict(disp=True, maxiter=1000))"
   ]
  },
  {
   "cell_type": "markdown",
   "id": "bbf96037-ecce-4848-ab94-54487196bd73",
   "metadata": {},
   "source": [
    "### 3. Evaluate the model"
   ]
  },
  {
   "cell_type": "code",
   "execution_count": 11,
   "id": "609ab0c6-5dbc-463e-b402-1cb7674af21a",
   "metadata": {},
   "outputs": [],
   "source": [
    "# predict\n",
    "standard_posterior_mean, standard_posterior_var = model.predict_y(X_test)\n",
    "posterior_mean   = standard_posterior_mean * train_tas_std + train_tas_mean\n",
    "posterior_std    = np.sqrt(standard_posterior_var) * train_tas_std"
   ]
  },
  {
   "cell_type": "code",
   "execution_count": 12,
   "id": "4f596a1c-1dc9-416f-a6c4-0f0f4229193c",
   "metadata": {
    "scrolled": true,
    "tags": []
   },
   "outputs": [],
   "source": [
    "y_test_pre_mean = np.reshape(posterior_mean,[posterior_mean.shape[0], 96, 144])\n",
    "y_test_pre_std  = np.reshape(posterior_std,[posterior_std.shape[0], 96, 144])\n",
    "\n",
    "y_test_pre = xr.Dataset(coords={'time': X_test_xr.time.values, \n",
    "                                 'latitude': X_test_xr.latitude.values, \n",
    "                                 'longitude': X_test_xr.longitude.values},\n",
    "                             data_vars=dict(tas_mean=(['time', 'latitude', 'longitude'], y_test_pre_mean),\n",
    "                                            tas_std=(['time', 'latitude', 'longitude'], y_test_pre_std)))"
   ]
  },
  {
   "cell_type": "code",
   "execution_count": 14,
   "id": "01d2e847-646c-42c6-a98e-523e1584b63b",
   "metadata": {},
   "outputs": [
    {
     "ename": "AttributeError",
     "evalue": "'DataArray' object has no attribute 'lat'",
     "output_type": "error",
     "traceback": [
      "\u001b[0;31m---------------------------------------------------------------------------\u001b[0m",
      "\u001b[0;31mAttributeError\u001b[0m                            Traceback (most recent call last)",
      "Input \u001b[0;32mIn [14]\u001b[0m, in \u001b[0;36m<cell line: 2>\u001b[0;34m()\u001b[0m\n\u001b[1;32m      1\u001b[0m \u001b[38;5;66;03m# Compute RMSEs\u001b[39;00m\n\u001b[0;32m----> 2\u001b[0m \u001b[38;5;28mprint\u001b[39m(\u001b[38;5;124mf\u001b[39m\u001b[38;5;124m\"\u001b[39m\u001b[38;5;124mRMSE at 2050: \u001b[39m\u001b[38;5;132;01m{\u001b[39;00mget_rmse(y_test_xr\u001b[38;5;241m.\u001b[39mtas[\u001b[38;5;241m35\u001b[39m], y_test_pre\u001b[38;5;241m.\u001b[39mtas_mean[\u001b[38;5;241m35\u001b[39m])\u001b[38;5;132;01m}\u001b[39;00m\u001b[38;5;124m\"\u001b[39m)\n\u001b[1;32m      3\u001b[0m \u001b[38;5;28mprint\u001b[39m(\u001b[38;5;124mf\u001b[39m\u001b[38;5;124m\"\u001b[39m\u001b[38;5;124mRMSE at 2100: \u001b[39m\u001b[38;5;132;01m{\u001b[39;00mget_rmse(y_test_xr\u001b[38;5;241m.\u001b[39mtas[\u001b[38;5;241m85\u001b[39m], y_test_pre\u001b[38;5;241m.\u001b[39mtas_mean[\u001b[38;5;241m85\u001b[39m])\u001b[38;5;132;01m}\u001b[39;00m\u001b[38;5;124m\"\u001b[39m)\n\u001b[1;32m      4\u001b[0m \u001b[38;5;28mprint\u001b[39m(\u001b[38;5;124mf\u001b[39m\u001b[38;5;124m\"\u001b[39m\u001b[38;5;124mRMSE 2045-2055: \u001b[39m\u001b[38;5;132;01m{\u001b[39;00mget_rmse(y_test_xr\u001b[38;5;241m.\u001b[39mtas[\u001b[38;5;241m30\u001b[39m:\u001b[38;5;241m41\u001b[39m], y_test_pre\u001b[38;5;241m.\u001b[39mtas_mean[\u001b[38;5;241m30\u001b[39m:\u001b[38;5;241m41\u001b[39m])\u001b[38;5;241m.\u001b[39mmean()\u001b[38;5;132;01m}\u001b[39;00m\u001b[38;5;124m\"\u001b[39m)\n",
      "File \u001b[0;32m~/Dropbox/Classes/ML_env_sci_eng/EAEE4000_ML_for_Env_Eng_Sci/ClimateBench_tutorials/utils.py:63\u001b[0m, in \u001b[0;36mget_rmse\u001b[0;34m(truth, pred)\u001b[0m\n\u001b[1;32m     62\u001b[0m \u001b[38;5;28;01mdef\u001b[39;00m \u001b[38;5;21mget_rmse\u001b[39m(truth, pred):\n\u001b[0;32m---> 63\u001b[0m     weights \u001b[38;5;241m=\u001b[39m np\u001b[38;5;241m.\u001b[39mcos(np\u001b[38;5;241m.\u001b[39mdeg2rad(\u001b[43mtruth\u001b[49m\u001b[38;5;241;43m.\u001b[39;49m\u001b[43mlat\u001b[49m))\n\u001b[1;32m     64\u001b[0m     \u001b[38;5;28;01mreturn\u001b[39;00m np\u001b[38;5;241m.\u001b[39msqrt(((truth\u001b[38;5;241m-\u001b[39mpred)\u001b[38;5;241m*\u001b[39m\u001b[38;5;241m*\u001b[39m\u001b[38;5;241m2\u001b[39m)\u001b[38;5;241m.\u001b[39mweighted(weights)\u001b[38;5;241m.\u001b[39mmean([\u001b[38;5;124m'\u001b[39m\u001b[38;5;124mlat\u001b[39m\u001b[38;5;124m'\u001b[39m, \u001b[38;5;124m'\u001b[39m\u001b[38;5;124mlon\u001b[39m\u001b[38;5;124m'\u001b[39m]))\u001b[38;5;241m.\u001b[39mdata\u001b[38;5;241m.\u001b[39mmean()\n",
      "File \u001b[0;32m~/opt/anaconda3/envs/keras/lib/python3.10/site-packages/xarray/core/common.py:272\u001b[0m, in \u001b[0;36mAttrAccessMixin.__getattr__\u001b[0;34m(self, name)\u001b[0m\n\u001b[1;32m    270\u001b[0m         \u001b[38;5;28;01mwith\u001b[39;00m suppress(\u001b[38;5;167;01mKeyError\u001b[39;00m):\n\u001b[1;32m    271\u001b[0m             \u001b[38;5;28;01mreturn\u001b[39;00m source[name]\n\u001b[0;32m--> 272\u001b[0m \u001b[38;5;28;01mraise\u001b[39;00m \u001b[38;5;167;01mAttributeError\u001b[39;00m(\n\u001b[1;32m    273\u001b[0m     \u001b[38;5;124mf\u001b[39m\u001b[38;5;124m\"\u001b[39m\u001b[38;5;132;01m{\u001b[39;00m\u001b[38;5;28mtype\u001b[39m(\u001b[38;5;28mself\u001b[39m)\u001b[38;5;241m.\u001b[39m\u001b[38;5;18m__name__\u001b[39m\u001b[38;5;132;01m!r}\u001b[39;00m\u001b[38;5;124m object has no attribute \u001b[39m\u001b[38;5;132;01m{\u001b[39;00mname\u001b[38;5;132;01m!r}\u001b[39;00m\u001b[38;5;124m\"\u001b[39m\n\u001b[1;32m    274\u001b[0m )\n",
      "\u001b[0;31mAttributeError\u001b[0m: 'DataArray' object has no attribute 'lat'"
     ]
    }
   ],
   "source": [
    "# Compute RMSEs\n",
    "print(f\"RMSE at 2050: {get_rmse(y_test_xr.tas[35], y_test_pre.tas_mean[35])}\")\n",
    "print(f\"RMSE at 2100: {get_rmse(y_test_xr.tas[85], y_test_pre.tas_mean[85])}\")\n",
    "print(f\"RMSE 2045-2055: {get_rmse(y_test_xr.tas[30:41], y_test_pre.tas_mean[30:41]).mean()}\")\n",
    "print(f\"RMSE 2090-2100: {get_rmse(y_test_xr.tas[75:], y_test_pre.tas_mean[75:]).mean()}\")\n",
    "print(f\"RMSE 2050-2100: {get_rmse(y_test_xr.tas[35:], y_test_pre.tas_mean[35:]).mean()}\")\n",
    "\n",
    "# RMSE for average field over the last 20 years\n",
    "print(f\"RMSE average last 20y: {get_rmse(y_test_xr.tas[-20:].mean(dim='time'), y_test_pre.tas_mean[-20:].mean(dim='time'))}\")"
   ]
  },
  {
   "cell_type": "code",
   "execution_count": null,
   "id": "198a35ed-7ee6-4c1b-9d18-552b1a85a7a3",
   "metadata": {},
   "outputs": [],
   "source": [
    "fig, axes = plt.subplots(figsize=(15,12),ncols=2,nrows=3)\n",
    "\n",
    "yrs = [2030, 2050, 2100]\n",
    "vmin, vmax    = -2, 5\n",
    "cmap = 'RdBu_r'\n",
    "# plotting predictions\n",
    "divnorm = colors.TwoSlopeNorm(vmin=vmin, vcenter=0., vmax=vmax)\n",
    "# diffnorm = colors.TwoSlopeNorm(vmin=-2., vcenter=0., vmax=2)\n",
    "\n",
    "y_test_pre.tas_mean.sel(time=yrs[0]).plot(ax=axes[0,0], cmap=cmap,norm=divnorm, \n",
    "                                          cbar_kwargs={\"label\":\"temperature (°C)\"})\n",
    "y_test_xr.tas.sel(time=yrs[0]).plot(ax=axes[0,1], cmap=cmap,norm=divnorm, \n",
    "                                    cbar_kwargs={\"label\":\"temperature (°C)\"})\n",
    "\n",
    "y_test_pre.tas_mean.sel(time=yrs[1]).plot(ax=axes[1,0], cmap=cmap,norm=divnorm, \n",
    "                                          cbar_kwargs={\"label\":\"temperature (°C)\"})\n",
    "y_test_xr.tas.sel(time=yrs[1]).plot(ax=axes[1,1], cmap=cmap,norm=divnorm, \n",
    "                                    cbar_kwargs={\"label\":\"temperature (°C)\"})\n",
    "\n",
    "y_test_pre.tas_mean.sel(time=yrs[2]).plot(ax=axes[2,0], cmap=cmap,norm=divnorm, \n",
    "                                          cbar_kwargs={\"label\":\"temperature (°C)\"})\n",
    "y_test_xr.tas.sel(time=yrs[2]).plot(ax=axes[2,1], cmap=cmap,norm=divnorm, \n",
    "                                    cbar_kwargs={\"label\":\"temperature (°C)\"})\n",
    "\n",
    "\n",
    "for i, ax in enumerate(axes.flat):\n",
    "    # left column: model prediction\n",
    "    if i % 2 == 0:\n",
    "        ax.set_title(f'tas model prediction (year = {yrs[i//2]})',fontweight='bold')\n",
    "    # right column: truth tas from ssp245 simulations\n",
    "    else:\n",
    "        ax.set_title(f'tas truth (year = {yrs[i//2]})',fontweight='bold')\n",
    "plt.tight_layout()"
   ]
  },
  {
   "cell_type": "code",
   "execution_count": null,
   "id": "ff28355e-592a-4912-a71e-d996e33992f3",
   "metadata": {},
   "outputs": [],
   "source": []
  },
  {
   "cell_type": "code",
   "execution_count": null,
   "id": "d373fb50",
   "metadata": {},
   "outputs": [],
   "source": []
  },
  {
   "cell_type": "code",
   "execution_count": null,
   "id": "3f7f94b5",
   "metadata": {},
   "outputs": [],
   "source": []
  }
 ],
 "metadata": {
  "kernelspec": {
   "display_name": "Python 3 (ipykernel)",
   "language": "python",
   "name": "python3"
  },
  "language_info": {
   "codemirror_mode": {
    "name": "ipython",
    "version": 3
   },
   "file_extension": ".py",
   "mimetype": "text/x-python",
   "name": "python",
   "nbconvert_exporter": "python",
   "pygments_lexer": "ipython3",
   "version": "3.10.6"
  }
 },
 "nbformat": 4,
 "nbformat_minor": 5
}
