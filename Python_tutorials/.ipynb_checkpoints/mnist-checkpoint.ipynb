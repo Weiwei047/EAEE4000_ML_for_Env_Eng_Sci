{
 "cells": [
  {
   "cell_type": "markdown",
   "metadata": {},
   "source": [
    "# Recognizing hand-written digits with neural networks\n",
    "\n",
    "**Neural network Python libraries**\n",
    "- *Keras*: High level library based on Tensorflow (or others) that is easy to use and flexible enough for most standard users. It has a great documentation and online support. \n",
    "- *Tensorflow*: Google's neural network library. Most widely used in ML research. Flexible and powerful but also (unnecessarily?) complicated.\n",
    "- *Pytorch*: The newcomer developed by Facebook. Flexible like Tensorflow but with a nicer, more Pythonic API.\n",
    "\n",
    "In this notebook we will tackle a classification task, recognizing hand-written digits of the famous MNIST dataset."
   ]
  },
  {
   "cell_type": "code",
   "execution_count": 1,
   "metadata": {},
   "outputs": [],
   "source": [
    "%matplotlib inline\n",
    "import numpy as np\n",
    "from tensorflow import keras\n",
    "import matplotlib.pyplot as plt\n",
    "from sklearn.model_selection import train_test_split\n",
    "from tensorflow.keras.layers import *\n",
    "from tensorflow.keras.optimizers import SGD, Adam\n",
    "from tensorflow.keras.models import Sequential\n",
    "from tensorflow.keras.utils import to_categorical"
   ]
  },
  {
   "cell_type": "markdown",
   "metadata": {},
   "source": [
    "## MNIST - Preparing and exploring the data\n",
    "\n",
    "Keras has a handy function to download the entire MNIST dataset which consists of 60,000 training images and 10000 test images."
   ]
  },
  {
   "cell_type": "code",
   "execution_count": 2,
   "metadata": {},
   "outputs": [],
   "source": [
    "(x_trn, y_trn), (x_test, y_test) = keras.datasets.mnist.load_data()"
   ]
  },
  {
   "cell_type": "code",
   "execution_count": 3,
   "metadata": {},
   "outputs": [
    {
     "data": {
      "text/plain": [
       "((60000, 28, 28), (60000,), (10000, 28, 28), (10000,))"
      ]
     },
     "execution_count": 3,
     "metadata": {},
     "output_type": "execute_result"
    }
   ],
   "source": [
    "x_trn.shape, y_trn.shape, x_test.shape, y_test.shape"
   ]
  },
  {
   "cell_type": "markdown",
   "metadata": {},
   "source": [
    "**STOP!** What are training, validation and test sets?\n",
    "\n",
    "- Training set: Data used to optimize the machine learning algorithm\n",
    "- Validation set: Data used to independently verify the skill of the algorithm\n",
    "- Test set: Another independent set used for *final* verification.\n",
    "\n",
    "Let's make a validation set."
   ]
  },
  {
   "cell_type": "code",
   "execution_count": 4,
   "metadata": {},
   "outputs": [],
   "source": [
    "# Set a random seed to make train/valid split reproducible\n",
    "np.random.seed(42)"
   ]
  },
  {
   "cell_type": "code",
   "execution_count": 5,
   "metadata": {},
   "outputs": [],
   "source": [
    "x_trn, x_val, y_trn, y_val = train_test_split(x_trn, y_trn, test_size=0.2)"
   ]
  },
  {
   "cell_type": "code",
   "execution_count": 6,
   "metadata": {},
   "outputs": [
    {
     "data": {
      "text/plain": [
       "((48000, 28, 28), (12000, 28, 28))"
      ]
     },
     "execution_count": 6,
     "metadata": {},
     "output_type": "execute_result"
    }
   ],
   "source": [
    "x_trn.shape, x_val.shape"
   ]
  },
  {
   "cell_type": "code",
   "execution_count": 7,
   "metadata": {},
   "outputs": [],
   "source": [
    "def plots(xs, ys):\n",
    "    nfigs = xs.shape[0]; ncols = min(3, nfigs); nrows = int(np.floor(nfigs / ncols))\n",
    "    fig, axs = plt.subplots(nrows, ncols, figsize=(3*ncols, 3*nrows))\n",
    "    for i, ax in enumerate(axs.flat):\n",
    "        ax.imshow(xs[i], cmap='gray')\n",
    "        ax.set_title(str(ys[i]))\n",
    "        ax.set_xticks([]); ax.set_yticks([])"
   ]
  },
  {
   "cell_type": "code",
   "execution_count": 8,
   "metadata": {},
   "outputs": [
    {
     "data": {
      "image/png": "[encoded data removed]",
      "text/plain": [
       "<Figure size 648x648 with 9 Axes>"
      ]
     },
     "metadata": {},
     "output_type": "display_data"
    }
   ],
   "source": [
    "plots(x_trn[:9], y_trn[:9])"
   ]
  },
  {
   "cell_type": "markdown",
   "metadata": {},
   "source": [
    "For gradient descent to work efficiently it is important that all the input variables or features are roughly on the same order of magnitude. Typically, we try to get them around 1."
   ]
  },
  {
   "cell_type": "code",
   "execution_count": 9,
   "metadata": {},
   "outputs": [],
   "source": [
    "def normalize(x): return x / 255"
   ]
  },
  {
   "cell_type": "code",
   "execution_count": 10,
   "metadata": {},
   "outputs": [],
   "source": [
    "x_trn = normalize(x_trn)\n",
    "x_val = normalize(x_val)"
   ]
  },
  {
   "cell_type": "code",
   "execution_count": 11,
   "metadata": {},
   "outputs": [
    {
     "data": {
      "text/plain": [
       "array([[0.99215686, 0.99215686, 0.76862745],\n",
       "       [0.85098039, 0.98431373, 0.99215686],\n",
       "       [0.        , 0.20784314, 0.9254902 ]])"
      ]
     },
     "execution_count": 11,
     "metadata": {},
     "output_type": "execute_result"
    }
   ],
   "source": [
    "x_trn[0, 12:15, 12:15]"
   ]
  },
  {
   "cell_type": "code",
   "execution_count": 12,
   "metadata": {},
   "outputs": [
    {
     "data": {
      "image/png": "[encoded data removed]",
      "text/plain": [
       "<Figure size 432x288 with 1 Axes>"
      ]
     },
     "metadata": {
      "needs_background": "light"
     },
     "output_type": "display_data"
    }
   ],
   "source": [
    "plt.imshow(x_trn[0, 12:15, 12:15], cmap='gray');"
   ]
  },
  {
   "cell_type": "markdown",
   "metadata": {},
   "source": [
    "Now we will do something pretty dumb. We will flatten out the images and throw away all spatial information."
   ]
  },
  {
   "cell_type": "code",
   "execution_count": 13,
   "metadata": {},
   "outputs": [],
   "source": [
    "def flatten(x): return x.reshape(x.shape[0], -1)"
   ]
  },
  {
   "cell_type": "code",
   "execution_count": 14,
   "metadata": {},
   "outputs": [],
   "source": [
    "x_trn = flatten(x_trn)\n",
    "x_val = flatten(x_val)"
   ]
  },
  {
   "cell_type": "code",
   "execution_count": 15,
   "metadata": {},
   "outputs": [
    {
     "data": {
      "text/plain": [
       "(48000, 784)"
      ]
     },
     "execution_count": 15,
     "metadata": {},
     "output_type": "execute_result"
    }
   ],
   "source": [
    "x_trn.shape"
   ]
  },
  {
   "cell_type": "code",
   "execution_count": 16,
   "metadata": {},
   "outputs": [
    {
     "data": {
      "image/png": "[encoded data removed]",
      "text/plain": [
       "<Figure size 7200x72 with 1 Axes>"
      ]
     },
     "metadata": {
      "needs_background": "light"
     },
     "output_type": "display_data"
    }
   ],
   "source": [
    "fig = plt.figure(figsize=(100, 1))\n",
    "plt.imshow(x_trn[0, None, :], cmap='gray');"
   ]
  },
  {
   "cell_type": "markdown",
   "metadata": {},
   "source": [
    "We are dealing with a classification problem. That means that the correct answer to always one of 10 classes. To pass the numbers to the neural net we one-hot encode the labels."
   ]
  },
  {
   "cell_type": "code",
   "execution_count": 17,
   "metadata": {},
   "outputs": [],
   "source": [
    "yoh_trn = to_categorical(y_trn)\n",
    "yoh_val = to_categorical(y_val)"
   ]
  },
  {
   "cell_type": "code",
   "execution_count": 18,
   "metadata": {},
   "outputs": [
    {
     "data": {
      "text/plain": [
       "(array([5, 0, 1], dtype=uint8),\n",
       " array([[0., 0., 0., 0., 0., 1., 0., 0., 0., 0.],\n",
       "        [1., 0., 0., 0., 0., 0., 0., 0., 0., 0.],\n",
       "        [0., 1., 0., 0., 0., 0., 0., 0., 0., 0.]], dtype=float32))"
      ]
     },
     "execution_count": 18,
     "metadata": {},
     "output_type": "execute_result"
    }
   ],
   "source": [
    "y_trn[:3], yoh_trn[:3]"
   ]
  },
  {
   "cell_type": "markdown",
   "metadata": {},
   "source": [
    "## Training a simple linear network\n",
    "\n",
    "To start, let's train a simple linear network."
   ]
  },
  {
   "cell_type": "code",
   "execution_count": 19,
   "metadata": {},
   "outputs": [],
   "source": [
    "linear_model = Sequential([\n",
    "    Dense(10, input_shape=(784,), activation='softmax'),\n",
    "])"
   ]
  },
  {
   "cell_type": "markdown",
   "metadata": {},
   "source": [
    "After the matrix multiplication we are using a Softmax layer."
   ]
  },
  {
   "cell_type": "code",
   "execution_count": 20,
   "metadata": {},
   "outputs": [],
   "source": [
    "def softmax(x):\n",
    "    np.exp(x) / np.sum(np.exp(x))"
   ]
  },
  {
   "cell_type": "code",
   "execution_count": 21,
   "metadata": {},
   "outputs": [],
   "source": [
    "x = [2, 6, 3, 5]"
   ]
  },
  {
   "cell_type": "code",
   "execution_count": 22,
   "metadata": {},
   "outputs": [
    {
     "data": {
      "text/plain": [
       "array([  7.3890561 , 403.42879349,  20.08553692, 148.4131591 ])"
      ]
     },
     "execution_count": 22,
     "metadata": {},
     "output_type": "execute_result"
    }
   ],
   "source": [
    "np.exp(x)"
   ]
  },
  {
   "cell_type": "code",
   "execution_count": 23,
   "metadata": {},
   "outputs": [
    {
     "data": {
      "text/plain": [
       "(array([0.01275478, 0.69638749, 0.03467109, 0.25618664]), 1.0)"
      ]
     },
     "execution_count": 23,
     "metadata": {},
     "output_type": "execute_result"
    }
   ],
   "source": [
    "out = np.exp(x) / np.sum(np.exp(x))\n",
    "out, out.sum()"
   ]
  },
  {
   "cell_type": "markdown",
   "metadata": {},
   "source": [
    "Next we need to judge how good our predictions is. For classification we use the categorical crossentropy:\n",
    "\n",
    "$L = - \\sum_c y_t^c \\log(y_p^c)$\n",
    "\n",
    "$c$ is the class, so one of our ten numbers."
   ]
  },
  {
   "cell_type": "code",
   "execution_count": 25,
   "metadata": {},
   "outputs": [],
   "source": [
    "linear_model.compile('adam', 'categorical_crossentropy', metrics=['accuracy'])"
   ]
  },
  {
   "cell_type": "code",
   "execution_count": 26,
   "metadata": {},
   "outputs": [
    {
     "name": "stdout",
     "output_type": "stream",
     "text": [
      "Model: \"sequential\"\n",
      "_________________________________________________________________\n",
      "Layer (type)                 Output Shape              Param #   \n",
      "=================================================================\n",
      "dense (Dense)                (None, 10)                7850      \n",
      "=================================================================\n",
      "Total params: 7,850\n",
      "Trainable params: 7,850\n",
      "Non-trainable params: 0\n",
      "_________________________________________________________________\n"
     ]
    }
   ],
   "source": [
    "linear_model.summary()"
   ]
  },
  {
   "cell_type": "code",
   "execution_count": 27,
   "metadata": {},
   "outputs": [
    {
     "name": "stdout",
     "output_type": "stream",
     "text": [
      "Epoch 1/10\n",
      "94/94 [==============================] - 1s 7ms/step - loss: 1.6490 - accuracy: 0.5265 - val_loss: 0.7261 - val_accuracy: 0.8365\n",
      "Epoch 2/10\n",
      "94/94 [==============================] - 0s 2ms/step - loss: 0.6543 - accuracy: 0.8500 - val_loss: 0.5212 - val_accuracy: 0.8749\n",
      "Epoch 3/10\n",
      "94/94 [==============================] - 0s 2ms/step - loss: 0.4959 - accuracy: 0.8763 - val_loss: 0.4420 - val_accuracy: 0.8895\n",
      "Epoch 4/10\n",
      "94/94 [==============================] - 0s 3ms/step - loss: 0.4335 - accuracy: 0.8896 - val_loss: 0.3994 - val_accuracy: 0.8982\n",
      "Epoch 5/10\n",
      "94/94 [==============================] - 0s 3ms/step - loss: 0.3929 - accuracy: 0.8947 - val_loss: 0.3726 - val_accuracy: 0.9032\n",
      "Epoch 6/10\n",
      "94/94 [==============================] - 0s 2ms/step - loss: 0.3706 - accuracy: 0.8992 - val_loss: 0.3536 - val_accuracy: 0.9068\n",
      "Epoch 7/10\n",
      "94/94 [==============================] - 0s 3ms/step - loss: 0.3493 - accuracy: 0.9043 - val_loss: 0.3399 - val_accuracy: 0.9095\n",
      "Epoch 8/10\n",
      "94/94 [==============================] - 0s 2ms/step - loss: 0.3329 - accuracy: 0.9093 - val_loss: 0.3292 - val_accuracy: 0.9124\n",
      "Epoch 9/10\n",
      "94/94 [==============================] - 0s 3ms/step - loss: 0.3319 - accuracy: 0.9081 - val_loss: 0.3209 - val_accuracy: 0.9146\n",
      "Epoch 10/10\n",
      "94/94 [==============================] - 0s 3ms/step - loss: 0.3157 - accuracy: 0.9151 - val_loss: 0.3145 - val_accuracy: 0.9147\n"
     ]
    },
    {
     "data": {
      "text/plain": [
       "<tensorflow.python.keras.callbacks.History at 0x1ade28fd0>"
      ]
     },
     "execution_count": 27,
     "metadata": {},
     "output_type": "execute_result"
    }
   ],
   "source": [
    "linear_model.fit(x_trn, yoh_trn, batch_size=512, epochs=10, validation_data=(x_val, yoh_val))"
   ]
  },
  {
   "cell_type": "code",
   "execution_count": 28,
   "metadata": {},
   "outputs": [],
   "source": [
    "preds = linear_model.predict(x_val, 4096)"
   ]
  },
  {
   "cell_type": "code",
   "execution_count": 29,
   "metadata": {},
   "outputs": [
    {
     "data": {
      "text/plain": [
       "array([[3.99468699e-05, 2.22802987e-06, 2.25380700e-06, 6.08977070e-03,\n",
       "        3.89178313e-04, 4.00744495e-04, 7.88663147e-06, 9.88257229e-01,\n",
       "        1.34790479e-03, 3.46270995e-03],\n",
       "       [2.73979938e-04, 4.95948416e-06, 1.82976335e-04, 9.95865583e-01,\n",
       "        7.58111355e-06, 2.97268387e-03, 2.57941902e-05, 2.54423935e-06,\n",
       "        5.51566714e-04, 1.12412185e-04],\n",
       "       [1.77306484e-03, 1.72085862e-03, 1.52326503e-03, 1.59070026e-02,\n",
       "        1.26985600e-04, 5.56591302e-02, 2.98337090e-05, 1.06154897e-04,\n",
       "        9.15075004e-01, 8.07867385e-03]], dtype=float32)"
      ]
     },
     "execution_count": 29,
     "metadata": {},
     "output_type": "execute_result"
    }
   ],
   "source": [
    "preds[:3]"
   ]
  },
  {
   "cell_type": "code",
   "execution_count": 30,
   "metadata": {},
   "outputs": [
    {
     "data": {
      "text/plain": [
       "array([7, 3, 8])"
      ]
     },
     "execution_count": 30,
     "metadata": {},
     "output_type": "execute_result"
    }
   ],
   "source": [
    "num_preds = np.argmax(preds, axis=1); num_preds[:3]"
   ]
  },
  {
   "cell_type": "code",
   "execution_count": 31,
   "metadata": {},
   "outputs": [
    {
     "data": {
      "image/png": "[encoded data removed]",
      "text/plain": [
       "<Figure size 648x648 with 9 Axes>"
      ]
     },
     "metadata": {},
     "output_type": "display_data"
    }
   ],
   "source": [
    "plots(x_val[:9].reshape(-1, 28, 28), num_preds[:9])"
   ]
  },
  {
   "cell_type": "markdown",
   "metadata": {},
   "source": [
    "## A neural network\n",
    "\n",
    "A neural network consists of several layers, connected by matrix multiplications. Layers between the input and output layer are called hidden layers. The activations in these layers are passed through a non-linear activation function.\n",
    "\n",
    "Neural networks can approximate any non-linear function: http://neuralnetworksanddeeplearning.com/chap4.html"
   ]
  },
  {
   "cell_type": "code",
   "execution_count": 40,
   "metadata": {},
   "outputs": [],
   "source": [
    "neural_net = Sequential([\n",
    "    Dense(512, input_shape=(784,), activation='relu'),\n",
    "    Dense(10, activation='softmax'),\n",
    "])"
   ]
  },
  {
   "cell_type": "code",
   "execution_count": 41,
   "metadata": {},
   "outputs": [],
   "source": [
    "neural_net.compile('adam', 'categorical_crossentropy', metrics=['accuracy'])"
   ]
  },
  {
   "cell_type": "code",
   "execution_count": 42,
   "metadata": {},
   "outputs": [
    {
     "name": "stdout",
     "output_type": "stream",
     "text": [
      "Model: \"sequential_3\"\n",
      "_________________________________________________________________\n",
      "Layer (type)                 Output Shape              Param #   \n",
      "=================================================================\n",
      "dense_7 (Dense)              (None, 512)               401920    \n",
      "_________________________________________________________________\n",
      "dense_8 (Dense)              (None, 10)                5130      \n",
      "=================================================================\n",
      "Total params: 407,050\n",
      "Trainable params: 407,050\n",
      "Non-trainable params: 0\n",
      "_________________________________________________________________\n"
     ]
    }
   ],
   "source": [
    "neural_net.summary()"
   ]
  },
  {
   "cell_type": "code",
   "execution_count": 35,
   "metadata": {},
   "outputs": [
    {
     "name": "stdout",
     "output_type": "stream",
     "text": [
      "Epoch 1/10\n",
      "94/94 [==============================] - 2s 18ms/step - loss: 0.8270 - accuracy: 0.7705 - val_loss: 0.2392 - val_accuracy: 0.9343\n",
      "Epoch 2/10\n",
      "94/94 [==============================] - 1s 16ms/step - loss: 0.2216 - accuracy: 0.9384 - val_loss: 0.1782 - val_accuracy: 0.9505\n",
      "Epoch 3/10\n",
      "94/94 [==============================] - 1s 15ms/step - loss: 0.1524 - accuracy: 0.9577 - val_loss: 0.1385 - val_accuracy: 0.9613\n",
      "Epoch 4/10\n",
      "94/94 [==============================] - 1s 16ms/step - loss: 0.1165 - accuracy: 0.9682 - val_loss: 0.1187 - val_accuracy: 0.9668\n",
      "Epoch 5/10\n",
      "94/94 [==============================] - 1s 15ms/step - loss: 0.0923 - accuracy: 0.9746 - val_loss: 0.1062 - val_accuracy: 0.9686\n",
      "Epoch 6/10\n",
      "94/94 [==============================] - 1s 16ms/step - loss: 0.0749 - accuracy: 0.9795 - val_loss: 0.0943 - val_accuracy: 0.9733\n",
      "Epoch 7/10\n",
      "94/94 [==============================] - 1s 16ms/step - loss: 0.0595 - accuracy: 0.9843 - val_loss: 0.0866 - val_accuracy: 0.9747\n",
      "Epoch 8/10\n",
      "94/94 [==============================] - 1s 16ms/step - loss: 0.0514 - accuracy: 0.9865 - val_loss: 0.0839 - val_accuracy: 0.9735\n",
      "Epoch 9/10\n",
      "94/94 [==============================] - 1s 16ms/step - loss: 0.0420 - accuracy: 0.9897 - val_loss: 0.0823 - val_accuracy: 0.9756\n",
      "Epoch 10/10\n",
      "94/94 [==============================] - 1s 16ms/step - loss: 0.0342 - accuracy: 0.9923 - val_loss: 0.0777 - val_accuracy: 0.9760\n"
     ]
    },
    {
     "data": {
      "text/plain": [
       "<tensorflow.python.keras.callbacks.History at 0x1ae461b20>"
      ]
     },
     "execution_count": 35,
     "metadata": {},
     "output_type": "execute_result"
    }
   ],
   "source": [
    "neural_net.fit(x_trn, yoh_trn, batch_size=512, epochs=10, validation_data=(x_val, yoh_val))"
   ]
  },
  {
   "cell_type": "markdown",
   "metadata": {},
   "source": [
    "### Deep neural networks"
   ]
  },
  {
   "cell_type": "code",
   "execution_count": 43,
   "metadata": {},
   "outputs": [],
   "source": [
    "deep_net = Sequential([\n",
    "    Dense(512, input_shape=(784,), activation='relu'),\n",
    "    Dropout(0.3),\n",
    "    Dense(256, activation='relu'),\n",
    "    Dropout(0.3),\n",
    "    Dense(256, activation='relu'),\n",
    "    Dropout(0.3),\n",
    "    Dense(10, activation='softmax'),\n",
    "])"
   ]
  },
  {
   "cell_type": "code",
   "execution_count": 44,
   "metadata": {},
   "outputs": [],
   "source": [
    "deep_net.compile('adam', 'categorical_crossentropy', metrics=['accuracy'])"
   ]
  },
  {
   "cell_type": "code",
   "execution_count": 45,
   "metadata": {},
   "outputs": [
    {
     "name": "stdout",
     "output_type": "stream",
     "text": [
      "Model: \"sequential_4\"\n",
      "_________________________________________________________________\n",
      "Layer (type)                 Output Shape              Param #   \n",
      "=================================================================\n",
      "dense_9 (Dense)              (None, 512)               401920    \n",
      "_________________________________________________________________\n",
      "dropout_3 (Dropout)          (None, 512)               0         \n",
      "_________________________________________________________________\n",
      "dense_10 (Dense)             (None, 256)               131328    \n",
      "_________________________________________________________________\n",
      "dropout_4 (Dropout)          (None, 256)               0         \n",
      "_________________________________________________________________\n",
      "dense_11 (Dense)             (None, 256)               65792     \n",
      "_________________________________________________________________\n",
      "dropout_5 (Dropout)          (None, 256)               0         \n",
      "_________________________________________________________________\n",
      "dense_12 (Dense)             (None, 10)                2570      \n",
      "=================================================================\n",
      "Total params: 601,610\n",
      "Trainable params: 601,610\n",
      "Non-trainable params: 0\n",
      "_________________________________________________________________\n"
     ]
    }
   ],
   "source": [
    "deep_net.summary()"
   ]
  },
  {
   "cell_type": "code",
   "execution_count": 39,
   "metadata": {
    "scrolled": true
   },
   "outputs": [
    {
     "name": "stdout",
     "output_type": "stream",
     "text": [
      "Epoch 1/10\n",
      "94/94 [==============================] - 2s 23ms/step - loss: 0.9928 - accuracy: 0.6827 - val_loss: 0.1792 - val_accuracy: 0.9471\n",
      "Epoch 2/10\n",
      "94/94 [==============================] - 2s 21ms/step - loss: 0.2121 - accuracy: 0.9372 - val_loss: 0.1205 - val_accuracy: 0.9630\n",
      "Epoch 3/10\n",
      "94/94 [==============================] - 2s 21ms/step - loss: 0.1458 - accuracy: 0.9569 - val_loss: 0.0967 - val_accuracy: 0.9712\n",
      "Epoch 4/10\n",
      "94/94 [==============================] - 2s 22ms/step - loss: 0.1131 - accuracy: 0.9652 - val_loss: 0.0838 - val_accuracy: 0.9743\n",
      "Epoch 5/10\n",
      "94/94 [==============================] - 2s 22ms/step - loss: 0.0859 - accuracy: 0.9736 - val_loss: 0.0788 - val_accuracy: 0.9758\n",
      "Epoch 6/10\n",
      "94/94 [==============================] - 2s 22ms/step - loss: 0.0727 - accuracy: 0.9781 - val_loss: 0.0721 - val_accuracy: 0.9786\n",
      "Epoch 7/10\n",
      "94/94 [==============================] - 2s 22ms/step - loss: 0.0609 - accuracy: 0.9806 - val_loss: 0.0759 - val_accuracy: 0.9774\n",
      "Epoch 8/10\n",
      "94/94 [==============================] - 2s 23ms/step - loss: 0.0528 - accuracy: 0.9830 - val_loss: 0.0673 - val_accuracy: 0.9811\n",
      "Epoch 9/10\n",
      "94/94 [==============================] - 2s 23ms/step - loss: 0.0455 - accuracy: 0.9852 - val_loss: 0.0743 - val_accuracy: 0.9802\n",
      "Epoch 10/10\n",
      "94/94 [==============================] - 2s 22ms/step - loss: 0.0431 - accuracy: 0.9864 - val_loss: 0.0690 - val_accuracy: 0.9813\n"
     ]
    },
    {
     "data": {
      "text/plain": [
       "<tensorflow.python.keras.callbacks.History at 0x1ae5c82e0>"
      ]
     },
     "execution_count": 39,
     "metadata": {},
     "output_type": "execute_result"
    }
   ],
   "source": [
    "deep_net.fit(x_trn, yoh_trn, batch_size=512, epochs=10, validation_data=(x_val, yoh_val))"
   ]
  },
  {
   "cell_type": "code",
   "execution_count": 46,
   "metadata": {},
   "outputs": [
    {
     "name": "stdout",
     "output_type": "stream",
     "text": [
      "Epoch 1/10\n",
      "94/94 [==============================] - 4s 36ms/step - loss: 1.9670 - accuracy: 0.3450 - val_loss: 0.6085 - val_accuracy: 0.8421\n",
      "Epoch 2/10\n",
      "94/94 [==============================] - 3s 32ms/step - loss: 0.7228 - accuracy: 0.7783 - val_loss: 0.3476 - val_accuracy: 0.9005\n",
      "Epoch 3/10\n",
      "94/94 [==============================] - 3s 28ms/step - loss: 0.4686 - accuracy: 0.8605 - val_loss: 0.2834 - val_accuracy: 0.9170\n",
      "Epoch 4/10\n",
      "94/94 [==============================] - 3s 30ms/step - loss: 0.3747 - accuracy: 0.8882 - val_loss: 0.2400 - val_accuracy: 0.9286\n",
      "Epoch 5/10\n",
      "94/94 [==============================] - 3s 28ms/step - loss: 0.3209 - accuracy: 0.9043 - val_loss: 0.2118 - val_accuracy: 0.9361\n",
      "Epoch 6/10\n",
      "94/94 [==============================] - 3s 28ms/step - loss: 0.2854 - accuracy: 0.9157 - val_loss: 0.1909 - val_accuracy: 0.9427\n",
      "Epoch 7/10\n",
      "94/94 [==============================] - 3s 28ms/step - loss: 0.2550 - accuracy: 0.9232 - val_loss: 0.1747 - val_accuracy: 0.9485\n",
      "Epoch 8/10\n",
      "94/94 [==============================] - 3s 29ms/step - loss: 0.2324 - accuracy: 0.9312 - val_loss: 0.1612 - val_accuracy: 0.9520\n",
      "Epoch 9/10\n",
      "94/94 [==============================] - 3s 29ms/step - loss: 0.2120 - accuracy: 0.9372 - val_loss: 0.1512 - val_accuracy: 0.9549\n",
      "Epoch 10/10\n",
      "94/94 [==============================] - 3s 32ms/step - loss: 0.1955 - accuracy: 0.9417 - val_loss: 0.1420 - val_accuracy: 0.9572\n"
     ]
    },
    {
     "data": {
      "text/plain": [
       "<tensorflow.python.keras.callbacks.History at 0x1ae6d0460>"
      ]
     },
     "execution_count": 46,
     "metadata": {},
     "output_type": "execute_result"
    }
   ],
   "source": [
    "deep_net.optimizer.lr=1e-4\n",
    "deep_net.fit(x_trn, yoh_trn, batch_size=512, epochs=10, validation_data=(x_val, yoh_val))"
   ]
  },
  {
   "cell_type": "markdown",
   "metadata": {},
   "source": [
    "## Convolutions\n",
    "\n",
    "To take advantage of the spatial information in images we can use convolutions rather than fully connected layers.\n",
    "\n",
    "http://setosa.io/ev/image-kernels/"
   ]
  },
  {
   "cell_type": "code",
   "execution_count": 48,
   "metadata": {},
   "outputs": [],
   "source": [
    "conv_net = Sequential([\n",
    "    Conv2D(32, kernel_size=5, strides=2, activation='relu', padding='same', input_shape=(28, 28, 1)),\n",
    "    Conv2D(64, kernel_size=3, strides=2, activation='relu', padding='same'),\n",
    "    Conv2D(128, kernel_size=3, strides=2, activation='relu', padding='same'),\n",
    "    Conv2D(10, kernel_size=3, strides=2, padding='same'),\n",
    "    GlobalAveragePooling2D(),\n",
    "    Activation('softmax')\n",
    "])"
   ]
  },
  {
   "cell_type": "code",
   "execution_count": 51,
   "metadata": {},
   "outputs": [
    {
     "name": "stdout",
     "output_type": "stream",
     "text": [
      "Model: \"sequential_6\"\n",
      "_________________________________________________________________\n",
      "Layer (type)                 Output Shape              Param #   \n",
      "=================================================================\n",
      "conv2d_4 (Conv2D)            (None, 14, 14, 32)        832       \n",
      "_________________________________________________________________\n",
      "conv2d_5 (Conv2D)            (None, 7, 7, 64)          18496     \n",
      "_________________________________________________________________\n",
      "conv2d_6 (Conv2D)            (None, 4, 4, 128)         73856     \n",
      "_________________________________________________________________\n",
      "conv2d_7 (Conv2D)            (None, 2, 2, 10)          11530     \n",
      "_________________________________________________________________\n",
      "global_average_pooling2d_1 ( (None, 10)                0         \n",
      "_________________________________________________________________\n",
      "activation_1 (Activation)    (None, 10)                0         \n",
      "=================================================================\n",
      "Total params: 104,714\n",
      "Trainable params: 104,714\n",
      "Non-trainable params: 0\n",
      "_________________________________________________________________\n"
     ]
    }
   ],
   "source": [
    "conv_net.summary()"
   ]
  },
  {
   "cell_type": "code",
   "execution_count": 52,
   "metadata": {},
   "outputs": [],
   "source": [
    "conv_net.compile('adam', 'categorical_crossentropy', metrics=['accuracy'])"
   ]
  },
  {
   "cell_type": "code",
   "execution_count": 54,
   "metadata": {},
   "outputs": [
    {
     "name": "stdout",
     "output_type": "stream",
     "text": [
      "Epoch 1/20\n",
      "94/94 [==============================] - 14s 153ms/step - loss: 0.0451 - accuracy: 0.9862 - val_loss: 0.0596 - val_accuracy: 0.9834\n",
      "Epoch 2/20\n",
      "94/94 [==============================] - 15s 156ms/step - loss: 0.0404 - accuracy: 0.9875 - val_loss: 0.0604 - val_accuracy: 0.9821\n",
      "Epoch 3/20\n",
      "94/94 [==============================] - 15s 161ms/step - loss: 0.0357 - accuracy: 0.9889 - val_loss: 0.0536 - val_accuracy: 0.9846\n",
      "Epoch 4/20\n",
      "94/94 [==============================] - 15s 164ms/step - loss: 0.0328 - accuracy: 0.9900 - val_loss: 0.0552 - val_accuracy: 0.9833\n",
      "Epoch 5/20\n",
      "94/94 [==============================] - 15s 163ms/step - loss: 0.0300 - accuracy: 0.9905 - val_loss: 0.0603 - val_accuracy: 0.9837\n",
      "Epoch 6/20\n",
      "94/94 [==============================] - 15s 164ms/step - loss: 0.0268 - accuracy: 0.9919 - val_loss: 0.0569 - val_accuracy: 0.9842\n",
      "Epoch 7/20\n",
      "94/94 [==============================] - 16s 166ms/step - loss: 0.0264 - accuracy: 0.9914 - val_loss: 0.0539 - val_accuracy: 0.9858\n",
      "Epoch 8/20\n",
      "94/94 [==============================] - 16s 168ms/step - loss: 0.0221 - accuracy: 0.9933 - val_loss: 0.0550 - val_accuracy: 0.9854\n",
      "Epoch 9/20\n",
      "94/94 [==============================] - 16s 171ms/step - loss: 0.0205 - accuracy: 0.9939 - val_loss: 0.0567 - val_accuracy: 0.9847\n",
      "Epoch 10/20\n",
      "94/94 [==============================] - 16s 169ms/step - loss: 0.0184 - accuracy: 0.9945 - val_loss: 0.0562 - val_accuracy: 0.9847\n",
      "Epoch 11/20\n",
      "94/94 [==============================] - 16s 168ms/step - loss: 0.0187 - accuracy: 0.9940 - val_loss: 0.0776 - val_accuracy: 0.9817\n",
      "Epoch 12/20\n",
      "94/94 [==============================] - 16s 169ms/step - loss: 0.0171 - accuracy: 0.9945 - val_loss: 0.0575 - val_accuracy: 0.9844\n",
      "Epoch 13/20\n",
      "94/94 [==============================] - 16s 169ms/step - loss: 0.0155 - accuracy: 0.9952 - val_loss: 0.0523 - val_accuracy: 0.9863\n",
      "Epoch 14/20\n",
      "94/94 [==============================] - 16s 171ms/step - loss: 0.0133 - accuracy: 0.9960 - val_loss: 0.0671 - val_accuracy: 0.9833\n",
      "Epoch 15/20\n",
      "94/94 [==============================] - 16s 169ms/step - loss: 0.0127 - accuracy: 0.9961 - val_loss: 0.0593 - val_accuracy: 0.9865\n",
      "Epoch 16/20\n",
      "94/94 [==============================] - 16s 172ms/step - loss: 0.0102 - accuracy: 0.9972 - val_loss: 0.0549 - val_accuracy: 0.9863\n",
      "Epoch 17/20\n",
      "94/94 [==============================] - 16s 173ms/step - loss: 0.0087 - accuracy: 0.9976 - val_loss: 0.0605 - val_accuracy: 0.9860\n",
      "Epoch 18/20\n",
      "94/94 [==============================] - 16s 171ms/step - loss: 0.0137 - accuracy: 0.9959 - val_loss: 0.0621 - val_accuracy: 0.9855\n",
      "Epoch 19/20\n",
      "94/94 [==============================] - 16s 173ms/step - loss: 0.0094 - accuracy: 0.9972 - val_loss: 0.0632 - val_accuracy: 0.9854\n",
      "Epoch 20/20\n",
      "94/94 [==============================] - 16s 169ms/step - loss: 0.0074 - accuracy: 0.9981 - val_loss: 0.0617 - val_accuracy: 0.9862\n"
     ]
    },
    {
     "data": {
      "text/plain": [
       "<tensorflow.python.keras.callbacks.History at 0x1adc04970>"
      ]
     },
     "execution_count": 54,
     "metadata": {},
     "output_type": "execute_result"
    }
   ],
   "source": [
    "conv_net.fit(x_trn.reshape(-1, 28, 28, 1), yoh_trn, batch_size=512, epochs=20, \n",
    "             validation_data=(x_val.reshape(-1, 28, 28, 1), yoh_val))"
   ]
  },
  {
   "cell_type": "markdown",
   "metadata": {},
   "source": [
    "## End"
   ]
  },
  {
   "cell_type": "code",
   "execution_count": null,
   "metadata": {},
   "outputs": [],
   "source": []
  },
  {
   "cell_type": "code",
   "execution_count": null,
   "metadata": {},
   "outputs": [],
   "source": []
  },
  {
   "cell_type": "code",
   "execution_count": null,
   "metadata": {},
   "outputs": [],
   "source": []
  },
  {
   "cell_type": "code",
   "execution_count": null,
   "metadata": {},
   "outputs": [],
   "source": []
  },
  {
   "cell_type": "code",
   "execution_count": null,
   "metadata": {},
   "outputs": [],
   "source": []
  },
  {
   "cell_type": "code",
   "execution_count": null,
   "metadata": {},
   "outputs": [],
   "source": []
  },
  {
   "cell_type": "code",
   "execution_count": null,
   "metadata": {},
   "outputs": [],
   "source": []
  },
  {
   "cell_type": "code",
   "execution_count": null,
   "metadata": {},
   "outputs": [],
   "source": []
  },
  {
   "cell_type": "code",
   "execution_count": null,
   "metadata": {},
   "outputs": [],
   "source": []
  },
  {
   "cell_type": "code",
   "execution_count": null,
   "metadata": {},
   "outputs": [],
   "source": []
  }
 ],
 "metadata": {
  "kernelspec": {
   "display_name": "tensorflow",
   "language": "python",
   "name": "tensorflow"
  },
  "language_info": {
   "codemirror_mode": {
    "name": "ipython",
    "version": 3
   },
   "file_extension": ".py",
   "mimetype": "text/x-python",
   "name": "python",
   "nbconvert_exporter": "python",
   "pygments_lexer": "ipython3",
   "version": "3.9.4"
  },
  "toc": {
   "nav_menu": {},
   "number_sections": true,
   "sideBar": false,
   "skip_h1_title": true,
   "toc_cell": false,
   "toc_position": {},
   "toc_section_display": "block",
   "toc_window_display": false
  }
 },
 "nbformat": 4,
 "nbformat_minor": 2
}
